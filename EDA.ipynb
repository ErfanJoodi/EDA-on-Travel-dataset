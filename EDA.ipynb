{
 "cells": [
  {
   "cell_type": "markdown",
   "metadata": {},
   "source": [
    "# Hi :)"
   ]
  },
  {
   "cell_type": "markdown",
   "metadata": {},
   "source": [
    "----"
   ]
  },
  {
   "cell_type": "markdown",
   "metadata": {},
   "source": [
    "# Import libraries"
   ]
  },
  {
   "cell_type": "code",
   "execution_count": 1,
   "metadata": {},
   "outputs": [],
   "source": [
    "import pandas as pd\n",
    "import matplotlib.pyplot as plt\n",
    "import seaborn as sn"
   ]
  },
  {
   "cell_type": "markdown",
   "metadata": {},
   "source": [
    "# Datasets"
   ]
  },
  {
   "cell_type": "markdown",
   "metadata": {},
   "source": [
    "Destinations"
   ]
  },
  {
   "cell_type": "code",
   "execution_count": 2,
   "metadata": {},
   "outputs": [
    {
     "data": {
      "text/html": [
       "<div>\n",
       "<style scoped>\n",
       "    .dataframe tbody tr th:only-of-type {\n",
       "        vertical-align: middle;\n",
       "    }\n",
       "\n",
       "    .dataframe tbody tr th {\n",
       "        vertical-align: top;\n",
       "    }\n",
       "\n",
       "    .dataframe thead th {\n",
       "        text-align: right;\n",
       "    }\n",
       "</style>\n",
       "<table border=\"1\" class=\"dataframe\">\n",
       "  <thead>\n",
       "    <tr style=\"text-align: right;\">\n",
       "      <th></th>\n",
       "      <th>DestinationID</th>\n",
       "      <th>Name</th>\n",
       "      <th>State</th>\n",
       "      <th>Type</th>\n",
       "      <th>Popularity</th>\n",
       "      <th>BestTimeToVisit</th>\n",
       "    </tr>\n",
       "  </thead>\n",
       "  <tbody>\n",
       "    <tr>\n",
       "      <th>0</th>\n",
       "      <td>1</td>\n",
       "      <td>Taj Mahal</td>\n",
       "      <td>Uttar Pradesh</td>\n",
       "      <td>Historical</td>\n",
       "      <td>8.691906</td>\n",
       "      <td>Nov-Feb</td>\n",
       "    </tr>\n",
       "    <tr>\n",
       "      <th>1</th>\n",
       "      <td>2</td>\n",
       "      <td>Goa Beaches</td>\n",
       "      <td>Goa</td>\n",
       "      <td>Beach</td>\n",
       "      <td>8.605032</td>\n",
       "      <td>Nov-Mar</td>\n",
       "    </tr>\n",
       "    <tr>\n",
       "      <th>2</th>\n",
       "      <td>3</td>\n",
       "      <td>Jaipur City</td>\n",
       "      <td>Rajasthan</td>\n",
       "      <td>City</td>\n",
       "      <td>9.225372</td>\n",
       "      <td>Oct-Mar</td>\n",
       "    </tr>\n",
       "    <tr>\n",
       "      <th>3</th>\n",
       "      <td>4</td>\n",
       "      <td>Kerala Backwaters</td>\n",
       "      <td>Kerala</td>\n",
       "      <td>Nature</td>\n",
       "      <td>7.977386</td>\n",
       "      <td>Sep-Mar</td>\n",
       "    </tr>\n",
       "    <tr>\n",
       "      <th>4</th>\n",
       "      <td>5</td>\n",
       "      <td>Leh Ladakh</td>\n",
       "      <td>Jammu and Kashmir</td>\n",
       "      <td>Adventure</td>\n",
       "      <td>8.399822</td>\n",
       "      <td>Apr-Jun</td>\n",
       "    </tr>\n",
       "  </tbody>\n",
       "</table>\n",
       "</div>"
      ],
      "text/plain": [
       "   DestinationID               Name              State        Type  \\\n",
       "0              1          Taj Mahal      Uttar Pradesh  Historical   \n",
       "1              2        Goa Beaches                Goa       Beach   \n",
       "2              3        Jaipur City          Rajasthan        City   \n",
       "3              4  Kerala Backwaters             Kerala      Nature   \n",
       "4              5         Leh Ladakh  Jammu and Kashmir   Adventure   \n",
       "\n",
       "   Popularity BestTimeToVisit  \n",
       "0    8.691906         Nov-Feb  \n",
       "1    8.605032         Nov-Mar  \n",
       "2    9.225372         Oct-Mar  \n",
       "3    7.977386         Sep-Mar  \n",
       "4    8.399822         Apr-Jun  "
      ]
     },
     "execution_count": 2,
     "metadata": {},
     "output_type": "execute_result"
    }
   ],
   "source": [
    "Destinations= pd.read_csv('ml-engineer/datasets/Expanded_Destinations.csv')\n",
    "Destinations.head()"
   ]
  },
  {
   "cell_type": "markdown",
   "metadata": {},
   "source": [
    "Users"
   ]
  },
  {
   "cell_type": "code",
   "execution_count": 3,
   "metadata": {},
   "outputs": [
    {
     "data": {
      "text/html": [
       "<div>\n",
       "<style scoped>\n",
       "    .dataframe tbody tr th:only-of-type {\n",
       "        vertical-align: middle;\n",
       "    }\n",
       "\n",
       "    .dataframe tbody tr th {\n",
       "        vertical-align: top;\n",
       "    }\n",
       "\n",
       "    .dataframe thead th {\n",
       "        text-align: right;\n",
       "    }\n",
       "</style>\n",
       "<table border=\"1\" class=\"dataframe\">\n",
       "  <thead>\n",
       "    <tr style=\"text-align: right;\">\n",
       "      <th></th>\n",
       "      <th>UserID</th>\n",
       "      <th>Name</th>\n",
       "      <th>Email</th>\n",
       "      <th>Preferences</th>\n",
       "      <th>Gender</th>\n",
       "      <th>NumberOfAdults</th>\n",
       "      <th>NumberOfChildren</th>\n",
       "    </tr>\n",
       "  </thead>\n",
       "  <tbody>\n",
       "    <tr>\n",
       "      <th>0</th>\n",
       "      <td>1</td>\n",
       "      <td>Kavya</td>\n",
       "      <td>kavya@example.com</td>\n",
       "      <td>Beaches, Historical</td>\n",
       "      <td>Female</td>\n",
       "      <td>1</td>\n",
       "      <td>0</td>\n",
       "    </tr>\n",
       "    <tr>\n",
       "      <th>1</th>\n",
       "      <td>2</td>\n",
       "      <td>Rohan</td>\n",
       "      <td>rohan@example.com</td>\n",
       "      <td>Nature, Adventure</td>\n",
       "      <td>Male</td>\n",
       "      <td>2</td>\n",
       "      <td>2</td>\n",
       "    </tr>\n",
       "    <tr>\n",
       "      <th>2</th>\n",
       "      <td>3</td>\n",
       "      <td>Kavya</td>\n",
       "      <td>kavya@example.com</td>\n",
       "      <td>City, Historical</td>\n",
       "      <td>Female</td>\n",
       "      <td>2</td>\n",
       "      <td>0</td>\n",
       "    </tr>\n",
       "    <tr>\n",
       "      <th>3</th>\n",
       "      <td>4</td>\n",
       "      <td>Anika</td>\n",
       "      <td>anika@example.com</td>\n",
       "      <td>Beaches, Historical</td>\n",
       "      <td>Female</td>\n",
       "      <td>1</td>\n",
       "      <td>0</td>\n",
       "    </tr>\n",
       "    <tr>\n",
       "      <th>4</th>\n",
       "      <td>5</td>\n",
       "      <td>Tanvi</td>\n",
       "      <td>tanvi@example.com</td>\n",
       "      <td>Nature, Adventure</td>\n",
       "      <td>Female</td>\n",
       "      <td>2</td>\n",
       "      <td>2</td>\n",
       "    </tr>\n",
       "  </tbody>\n",
       "</table>\n",
       "</div>"
      ],
      "text/plain": [
       "   UserID   Name              Email          Preferences  Gender  \\\n",
       "0       1  Kavya  kavya@example.com  Beaches, Historical  Female   \n",
       "1       2  Rohan  rohan@example.com    Nature, Adventure    Male   \n",
       "2       3  Kavya  kavya@example.com     City, Historical  Female   \n",
       "3       4  Anika  anika@example.com  Beaches, Historical  Female   \n",
       "4       5  Tanvi  tanvi@example.com    Nature, Adventure  Female   \n",
       "\n",
       "   NumberOfAdults  NumberOfChildren  \n",
       "0               1                 0  \n",
       "1               2                 2  \n",
       "2               2                 0  \n",
       "3               1                 0  \n",
       "4               2                 2  "
      ]
     },
     "execution_count": 3,
     "metadata": {},
     "output_type": "execute_result"
    }
   ],
   "source": [
    "Users= pd.read_csv('ml-engineer/datasets/Final_Updated_Expanded_Users.csv')\n",
    "Users.head()"
   ]
  },
  {
   "cell_type": "markdown",
   "metadata": {},
   "source": [
    "Reviews"
   ]
  },
  {
   "cell_type": "code",
   "execution_count": 4,
   "metadata": {},
   "outputs": [
    {
     "data": {
      "text/html": [
       "<div>\n",
       "<style scoped>\n",
       "    .dataframe tbody tr th:only-of-type {\n",
       "        vertical-align: middle;\n",
       "    }\n",
       "\n",
       "    .dataframe tbody tr th {\n",
       "        vertical-align: top;\n",
       "    }\n",
       "\n",
       "    .dataframe thead th {\n",
       "        text-align: right;\n",
       "    }\n",
       "</style>\n",
       "<table border=\"1\" class=\"dataframe\">\n",
       "  <thead>\n",
       "    <tr style=\"text-align: right;\">\n",
       "      <th></th>\n",
       "      <th>ReviewID</th>\n",
       "      <th>DestinationID</th>\n",
       "      <th>UserID</th>\n",
       "      <th>Rating</th>\n",
       "      <th>ReviewText</th>\n",
       "    </tr>\n",
       "  </thead>\n",
       "  <tbody>\n",
       "    <tr>\n",
       "      <th>0</th>\n",
       "      <td>1</td>\n",
       "      <td>178</td>\n",
       "      <td>327</td>\n",
       "      <td>2</td>\n",
       "      <td>Incredible monument!</td>\n",
       "    </tr>\n",
       "    <tr>\n",
       "      <th>1</th>\n",
       "      <td>2</td>\n",
       "      <td>411</td>\n",
       "      <td>783</td>\n",
       "      <td>1</td>\n",
       "      <td>Loved the beaches!</td>\n",
       "    </tr>\n",
       "    <tr>\n",
       "      <th>2</th>\n",
       "      <td>3</td>\n",
       "      <td>927</td>\n",
       "      <td>12</td>\n",
       "      <td>2</td>\n",
       "      <td>A historical wonder</td>\n",
       "    </tr>\n",
       "    <tr>\n",
       "      <th>3</th>\n",
       "      <td>4</td>\n",
       "      <td>358</td>\n",
       "      <td>959</td>\n",
       "      <td>3</td>\n",
       "      <td>Incredible monument!</td>\n",
       "    </tr>\n",
       "    <tr>\n",
       "      <th>4</th>\n",
       "      <td>5</td>\n",
       "      <td>989</td>\n",
       "      <td>353</td>\n",
       "      <td>2</td>\n",
       "      <td>Loved the beaches!</td>\n",
       "    </tr>\n",
       "  </tbody>\n",
       "</table>\n",
       "</div>"
      ],
      "text/plain": [
       "   ReviewID  DestinationID  UserID  Rating            ReviewText\n",
       "0         1            178     327       2  Incredible monument!\n",
       "1         2            411     783       1    Loved the beaches!\n",
       "2         3            927      12       2   A historical wonder\n",
       "3         4            358     959       3  Incredible monument!\n",
       "4         5            989     353       2    Loved the beaches!"
      ]
     },
     "execution_count": 4,
     "metadata": {},
     "output_type": "execute_result"
    }
   ],
   "source": [
    "Reviews= pd.read_csv('ml-engineer/datasets/Final_Updated_Expanded_Reviews.csv')\n",
    "Reviews.head()"
   ]
  },
  {
   "cell_type": "markdown",
   "metadata": {},
   "source": [
    "User History"
   ]
  },
  {
   "cell_type": "code",
   "execution_count": 5,
   "metadata": {},
   "outputs": [
    {
     "data": {
      "text/html": [
       "<div>\n",
       "<style scoped>\n",
       "    .dataframe tbody tr th:only-of-type {\n",
       "        vertical-align: middle;\n",
       "    }\n",
       "\n",
       "    .dataframe tbody tr th {\n",
       "        vertical-align: top;\n",
       "    }\n",
       "\n",
       "    .dataframe thead th {\n",
       "        text-align: right;\n",
       "    }\n",
       "</style>\n",
       "<table border=\"1\" class=\"dataframe\">\n",
       "  <thead>\n",
       "    <tr style=\"text-align: right;\">\n",
       "      <th></th>\n",
       "      <th>HistoryID</th>\n",
       "      <th>UserID</th>\n",
       "      <th>DestinationID</th>\n",
       "      <th>VisitDate</th>\n",
       "      <th>ExperienceRating</th>\n",
       "    </tr>\n",
       "  </thead>\n",
       "  <tbody>\n",
       "    <tr>\n",
       "      <th>0</th>\n",
       "      <td>1</td>\n",
       "      <td>525</td>\n",
       "      <td>760</td>\n",
       "      <td>2024-01-01</td>\n",
       "      <td>3</td>\n",
       "    </tr>\n",
       "    <tr>\n",
       "      <th>1</th>\n",
       "      <td>2</td>\n",
       "      <td>184</td>\n",
       "      <td>532</td>\n",
       "      <td>2024-02-15</td>\n",
       "      <td>5</td>\n",
       "    </tr>\n",
       "    <tr>\n",
       "      <th>2</th>\n",
       "      <td>3</td>\n",
       "      <td>897</td>\n",
       "      <td>786</td>\n",
       "      <td>2024-03-20</td>\n",
       "      <td>2</td>\n",
       "    </tr>\n",
       "    <tr>\n",
       "      <th>3</th>\n",
       "      <td>4</td>\n",
       "      <td>470</td>\n",
       "      <td>660</td>\n",
       "      <td>2024-01-01</td>\n",
       "      <td>1</td>\n",
       "    </tr>\n",
       "    <tr>\n",
       "      <th>4</th>\n",
       "      <td>5</td>\n",
       "      <td>989</td>\n",
       "      <td>389</td>\n",
       "      <td>2024-02-15</td>\n",
       "      <td>4</td>\n",
       "    </tr>\n",
       "  </tbody>\n",
       "</table>\n",
       "</div>"
      ],
      "text/plain": [
       "   HistoryID  UserID  DestinationID   VisitDate  ExperienceRating\n",
       "0          1     525            760  2024-01-01                 3\n",
       "1          2     184            532  2024-02-15                 5\n",
       "2          3     897            786  2024-03-20                 2\n",
       "3          4     470            660  2024-01-01                 1\n",
       "4          5     989            389  2024-02-15                 4"
      ]
     },
     "execution_count": 5,
     "metadata": {},
     "output_type": "execute_result"
    }
   ],
   "source": [
    "History= pd.read_csv('ml-engineer/datasets/Final_Updated_Expanded_UserHistory.csv')\n",
    "History.head()"
   ]
  },
  {
   "cell_type": "markdown",
   "metadata": {},
   "source": [
    "----"
   ]
  },
  {
   "cell_type": "markdown",
   "metadata": {},
   "source": [
    "# Preprocessing"
   ]
  },
  {
   "cell_type": "markdown",
   "metadata": {},
   "source": [
    "# Destinations"
   ]
  },
  {
   "cell_type": "code",
   "execution_count": 6,
   "metadata": {},
   "outputs": [
    {
     "data": {
      "text/html": [
       "<div>\n",
       "<style scoped>\n",
       "    .dataframe tbody tr th:only-of-type {\n",
       "        vertical-align: middle;\n",
       "    }\n",
       "\n",
       "    .dataframe tbody tr th {\n",
       "        vertical-align: top;\n",
       "    }\n",
       "\n",
       "    .dataframe thead th {\n",
       "        text-align: right;\n",
       "    }\n",
       "</style>\n",
       "<table border=\"1\" class=\"dataframe\">\n",
       "  <thead>\n",
       "    <tr style=\"text-align: right;\">\n",
       "      <th></th>\n",
       "      <th>DestinationID</th>\n",
       "      <th>Name</th>\n",
       "      <th>State</th>\n",
       "      <th>Type</th>\n",
       "      <th>Popularity</th>\n",
       "      <th>BestTimeToVisit</th>\n",
       "    </tr>\n",
       "  </thead>\n",
       "  <tbody>\n",
       "    <tr>\n",
       "      <th>0</th>\n",
       "      <td>1</td>\n",
       "      <td>Taj Mahal</td>\n",
       "      <td>Uttar Pradesh</td>\n",
       "      <td>Historical</td>\n",
       "      <td>8.691906</td>\n",
       "      <td>Nov-Feb</td>\n",
       "    </tr>\n",
       "    <tr>\n",
       "      <th>1</th>\n",
       "      <td>2</td>\n",
       "      <td>Goa Beaches</td>\n",
       "      <td>Goa</td>\n",
       "      <td>Beach</td>\n",
       "      <td>8.605032</td>\n",
       "      <td>Nov-Mar</td>\n",
       "    </tr>\n",
       "    <tr>\n",
       "      <th>2</th>\n",
       "      <td>3</td>\n",
       "      <td>Jaipur City</td>\n",
       "      <td>Rajasthan</td>\n",
       "      <td>City</td>\n",
       "      <td>9.225372</td>\n",
       "      <td>Oct-Mar</td>\n",
       "    </tr>\n",
       "    <tr>\n",
       "      <th>3</th>\n",
       "      <td>4</td>\n",
       "      <td>Kerala Backwaters</td>\n",
       "      <td>Kerala</td>\n",
       "      <td>Nature</td>\n",
       "      <td>7.977386</td>\n",
       "      <td>Sep-Mar</td>\n",
       "    </tr>\n",
       "    <tr>\n",
       "      <th>4</th>\n",
       "      <td>5</td>\n",
       "      <td>Leh Ladakh</td>\n",
       "      <td>Jammu and Kashmir</td>\n",
       "      <td>Adventure</td>\n",
       "      <td>8.399822</td>\n",
       "      <td>Apr-Jun</td>\n",
       "    </tr>\n",
       "  </tbody>\n",
       "</table>\n",
       "</div>"
      ],
      "text/plain": [
       "   DestinationID               Name              State        Type  \\\n",
       "0              1          Taj Mahal      Uttar Pradesh  Historical   \n",
       "1              2        Goa Beaches                Goa       Beach   \n",
       "2              3        Jaipur City          Rajasthan        City   \n",
       "3              4  Kerala Backwaters             Kerala      Nature   \n",
       "4              5         Leh Ladakh  Jammu and Kashmir   Adventure   \n",
       "\n",
       "   Popularity BestTimeToVisit  \n",
       "0    8.691906         Nov-Feb  \n",
       "1    8.605032         Nov-Mar  \n",
       "2    9.225372         Oct-Mar  \n",
       "3    7.977386         Sep-Mar  \n",
       "4    8.399822         Apr-Jun  "
      ]
     },
     "execution_count": 6,
     "metadata": {},
     "output_type": "execute_result"
    }
   ],
   "source": [
    "Destinations.head()"
   ]
  },
  {
   "cell_type": "code",
   "execution_count": 118,
   "metadata": {},
   "outputs": [],
   "source": [
    "# Make a copy of the original dataset so we can work with it without changing the original dataset\n",
    "destinations= Destinations.copy()"
   ]
  },
  {
   "cell_type": "code",
   "execution_count": 8,
   "metadata": {},
   "outputs": [
    {
     "data": {
      "text/plain": [
       "(1000, 6)"
      ]
     },
     "execution_count": 8,
     "metadata": {},
     "output_type": "execute_result"
    }
   ],
   "source": [
    "destinations.shape"
   ]
  },
  {
   "cell_type": "markdown",
   "metadata": {},
   "source": [
    "Data type"
   ]
  },
  {
   "cell_type": "code",
   "execution_count": 9,
   "metadata": {},
   "outputs": [
    {
     "name": "stdout",
     "output_type": "stream",
     "text": [
      "<class 'pandas.core.frame.DataFrame'>\n",
      "RangeIndex: 1000 entries, 0 to 999\n",
      "Data columns (total 6 columns):\n",
      " #   Column           Non-Null Count  Dtype  \n",
      "---  ------           --------------  -----  \n",
      " 0   DestinationID    1000 non-null   int64  \n",
      " 1   Name             1000 non-null   object \n",
      " 2   State            1000 non-null   object \n",
      " 3   Type             1000 non-null   object \n",
      " 4   Popularity       1000 non-null   float64\n",
      " 5   BestTimeToVisit  1000 non-null   object \n",
      "dtypes: float64(1), int64(1), object(4)\n",
      "memory usage: 47.0+ KB\n"
     ]
    }
   ],
   "source": [
    "destinations.info()"
   ]
  },
  {
   "cell_type": "markdown",
   "metadata": {},
   "source": [
    "Statistical informations"
   ]
  },
  {
   "cell_type": "code",
   "execution_count": 10,
   "metadata": {},
   "outputs": [
    {
     "data": {
      "text/html": [
       "<div>\n",
       "<style scoped>\n",
       "    .dataframe tbody tr th:only-of-type {\n",
       "        vertical-align: middle;\n",
       "    }\n",
       "\n",
       "    .dataframe tbody tr th {\n",
       "        vertical-align: top;\n",
       "    }\n",
       "\n",
       "    .dataframe thead th {\n",
       "        text-align: right;\n",
       "    }\n",
       "</style>\n",
       "<table border=\"1\" class=\"dataframe\">\n",
       "  <thead>\n",
       "    <tr style=\"text-align: right;\">\n",
       "      <th></th>\n",
       "      <th>Popularity</th>\n",
       "    </tr>\n",
       "  </thead>\n",
       "  <tbody>\n",
       "    <tr>\n",
       "      <th>count</th>\n",
       "      <td>1000.000000</td>\n",
       "    </tr>\n",
       "    <tr>\n",
       "      <th>mean</th>\n",
       "      <td>8.513927</td>\n",
       "    </tr>\n",
       "    <tr>\n",
       "      <th>std</th>\n",
       "      <td>0.567083</td>\n",
       "    </tr>\n",
       "    <tr>\n",
       "      <th>min</th>\n",
       "      <td>7.504500</td>\n",
       "    </tr>\n",
       "    <tr>\n",
       "      <th>25%</th>\n",
       "      <td>8.034457</td>\n",
       "    </tr>\n",
       "    <tr>\n",
       "      <th>50%</th>\n",
       "      <td>8.496527</td>\n",
       "    </tr>\n",
       "    <tr>\n",
       "      <th>75%</th>\n",
       "      <td>9.020769</td>\n",
       "    </tr>\n",
       "    <tr>\n",
       "      <th>max</th>\n",
       "      <td>9.499811</td>\n",
       "    </tr>\n",
       "  </tbody>\n",
       "</table>\n",
       "</div>"
      ],
      "text/plain": [
       "        Popularity\n",
       "count  1000.000000\n",
       "mean      8.513927\n",
       "std       0.567083\n",
       "min       7.504500\n",
       "25%       8.034457\n",
       "50%       8.496527\n",
       "75%       9.020769\n",
       "max       9.499811"
      ]
     },
     "execution_count": 10,
     "metadata": {},
     "output_type": "execute_result"
    }
   ],
   "source": [
    "si= destinations.describe()['Popularity'].reset_index()\n",
    "si.index= si['index'].values\n",
    "si.drop(columns= ['index'], inplace= True)\n",
    "si"
   ]
  },
  {
   "cell_type": "code",
   "execution_count": 15,
   "metadata": {},
   "outputs": [
    {
     "data": {
      "image/png": "[encoded data removed]",
      "text/plain": [
       "<Figure size 250x250 with 2 Axes>"
      ]
     },
     "metadata": {},
     "output_type": "display_data"
    }
   ],
   "source": [
    "sn.pairplot(destinations.drop(columns= ['DestinationID']));"
   ]
  },
  {
   "cell_type": "markdown",
   "metadata": {},
   "source": [
    "Null values"
   ]
  },
  {
   "cell_type": "code",
   "execution_count": 16,
   "metadata": {},
   "outputs": [
    {
     "data": {
      "text/plain": [
       "DestinationID      0\n",
       "Name               0\n",
       "State              0\n",
       "Type               0\n",
       "Popularity         0\n",
       "BestTimeToVisit    0\n",
       "dtype: int64"
      ]
     },
     "execution_count": 16,
     "metadata": {},
     "output_type": "execute_result"
    }
   ],
   "source": [
    "destinations.isnull().sum()"
   ]
  },
  {
   "cell_type": "markdown",
   "metadata": {},
   "source": [
    "Check the columns"
   ]
  },
  {
   "cell_type": "code",
   "execution_count": 18,
   "metadata": {},
   "outputs": [
    {
     "data": {
      "text/plain": [
       "Index(['DestinationID', 'Name', 'State', 'Type', 'Popularity',\n",
       "       'BestTimeToVisit'],\n",
       "      dtype='object')"
      ]
     },
     "execution_count": 18,
     "metadata": {},
     "output_type": "execute_result"
    }
   ],
   "source": [
    "destinations.columns"
   ]
  },
  {
   "cell_type": "code",
   "execution_count": 28,
   "metadata": {},
   "outputs": [
    {
     "data": {
      "text/plain": [
       "0         1\n",
       "1         2\n",
       "2         3\n",
       "3         4\n",
       "4         5\n",
       "       ... \n",
       "995     996\n",
       "996     997\n",
       "997     998\n",
       "998     999\n",
       "999    1000\n",
       "Name: DestinationID, Length: 1000, dtype: int64"
      ]
     },
     "execution_count": 28,
     "metadata": {},
     "output_type": "execute_result"
    }
   ],
   "source": [
    "destinations['DestinationID']"
   ]
  },
  {
   "cell_type": "code",
   "execution_count": 27,
   "metadata": {},
   "outputs": [
    {
     "data": {
      "text/plain": [
       "1000"
      ]
     },
     "execution_count": 27,
     "metadata": {},
     "output_type": "execute_result"
    }
   ],
   "source": [
    "len(destinations['DestinationID'].unique())"
   ]
  },
  {
   "cell_type": "code",
   "execution_count": 30,
   "metadata": {},
   "outputs": [
    {
     "data": {
      "text/plain": [
       "0              Taj Mahal\n",
       "1            Goa Beaches\n",
       "2            Jaipur City\n",
       "3      Kerala Backwaters\n",
       "4             Leh Ladakh\n",
       "             ...        \n",
       "995            Taj Mahal\n",
       "996          Goa Beaches\n",
       "997          Jaipur City\n",
       "998    Kerala Backwaters\n",
       "999           Leh Ladakh\n",
       "Name: Name, Length: 1000, dtype: object"
      ]
     },
     "execution_count": 30,
     "metadata": {},
     "output_type": "execute_result"
    }
   ],
   "source": [
    "destinations['Name']"
   ]
  },
  {
   "cell_type": "code",
   "execution_count": 31,
   "metadata": {},
   "outputs": [
    {
     "data": {
      "text/plain": [
       "5"
      ]
     },
     "execution_count": 31,
     "metadata": {},
     "output_type": "execute_result"
    }
   ],
   "source": [
    "len(destinations['Name'].unique())"
   ]
  },
  {
   "cell_type": "code",
   "execution_count": 32,
   "metadata": {},
   "outputs": [
    {
     "data": {
      "text/plain": [
       "array(['Taj Mahal', 'Goa Beaches', 'Jaipur City', 'Kerala Backwaters',\n",
       "       'Leh Ladakh'], dtype=object)"
      ]
     },
     "execution_count": 32,
     "metadata": {},
     "output_type": "execute_result"
    }
   ],
   "source": [
    "destinations['Name'].unique()"
   ]
  },
  {
   "cell_type": "code",
   "execution_count": 34,
   "metadata": {},
   "outputs": [
    {
     "data": {
      "text/plain": [
       "array(['Uttar Pradesh', 'Goa', 'Rajasthan', 'Kerala', 'Jammu and Kashmir'],\n",
       "      dtype=object)"
      ]
     },
     "execution_count": 34,
     "metadata": {},
     "output_type": "execute_result"
    }
   ],
   "source": [
    "destinations['State'].unique()"
   ]
  },
  {
   "cell_type": "code",
   "execution_count": 43,
   "metadata": {},
   "outputs": [
    {
     "data": {
      "text/html": [
       "<div>\n",
       "<style scoped>\n",
       "    .dataframe tbody tr th:only-of-type {\n",
       "        vertical-align: middle;\n",
       "    }\n",
       "\n",
       "    .dataframe tbody tr th {\n",
       "        vertical-align: top;\n",
       "    }\n",
       "\n",
       "    .dataframe thead th {\n",
       "        text-align: right;\n",
       "    }\n",
       "</style>\n",
       "<table border=\"1\" class=\"dataframe\">\n",
       "  <thead>\n",
       "    <tr style=\"text-align: right;\">\n",
       "      <th></th>\n",
       "      <th>DestinationID</th>\n",
       "      <th>Name</th>\n",
       "      <th>State</th>\n",
       "      <th>Type</th>\n",
       "      <th>Popularity</th>\n",
       "      <th>BestTimeToVisit</th>\n",
       "    </tr>\n",
       "  </thead>\n",
       "  <tbody>\n",
       "    <tr>\n",
       "      <th>0</th>\n",
       "      <td>1</td>\n",
       "      <td>Taj Mahal</td>\n",
       "      <td>Uttar Pradesh</td>\n",
       "      <td>Historical</td>\n",
       "      <td>8.691906</td>\n",
       "      <td>Nov-Feb</td>\n",
       "    </tr>\n",
       "    <tr>\n",
       "      <th>1</th>\n",
       "      <td>2</td>\n",
       "      <td>Goa Beaches</td>\n",
       "      <td>Goa</td>\n",
       "      <td>Beach</td>\n",
       "      <td>8.605032</td>\n",
       "      <td>Nov-Mar</td>\n",
       "    </tr>\n",
       "    <tr>\n",
       "      <th>2</th>\n",
       "      <td>3</td>\n",
       "      <td>Jaipur City</td>\n",
       "      <td>Rajasthan</td>\n",
       "      <td>City</td>\n",
       "      <td>9.225372</td>\n",
       "      <td>Oct-Mar</td>\n",
       "    </tr>\n",
       "    <tr>\n",
       "      <th>3</th>\n",
       "      <td>4</td>\n",
       "      <td>Kerala Backwaters</td>\n",
       "      <td>Kerala</td>\n",
       "      <td>Nature</td>\n",
       "      <td>7.977386</td>\n",
       "      <td>Sep-Mar</td>\n",
       "    </tr>\n",
       "    <tr>\n",
       "      <th>4</th>\n",
       "      <td>5</td>\n",
       "      <td>Leh Ladakh</td>\n",
       "      <td>Jammu and Kashmir</td>\n",
       "      <td>Adventure</td>\n",
       "      <td>8.399822</td>\n",
       "      <td>Apr-Jun</td>\n",
       "    </tr>\n",
       "  </tbody>\n",
       "</table>\n",
       "</div>"
      ],
      "text/plain": [
       "   DestinationID               Name              State        Type  \\\n",
       "0              1          Taj Mahal      Uttar Pradesh  Historical   \n",
       "1              2        Goa Beaches                Goa       Beach   \n",
       "2              3        Jaipur City          Rajasthan        City   \n",
       "3              4  Kerala Backwaters             Kerala      Nature   \n",
       "4              5         Leh Ladakh  Jammu and Kashmir   Adventure   \n",
       "\n",
       "   Popularity BestTimeToVisit  \n",
       "0    8.691906         Nov-Feb  \n",
       "1    8.605032         Nov-Mar  \n",
       "2    9.225372         Oct-Mar  \n",
       "3    7.977386         Sep-Mar  \n",
       "4    8.399822         Apr-Jun  "
      ]
     },
     "execution_count": 43,
     "metadata": {},
     "output_type": "execute_result"
    }
   ],
   "source": [
    "destinations.iloc[: 5]"
   ]
  },
  {
   "cell_type": "code",
   "execution_count": 44,
   "metadata": {},
   "outputs": [
    {
     "data": {
      "text/plain": [
       "Name\n",
       "Taj Mahal            200\n",
       "Goa Beaches          200\n",
       "Jaipur City          200\n",
       "Kerala Backwaters    200\n",
       "Leh Ladakh           200\n",
       "Name: count, dtype: int64"
      ]
     },
     "execution_count": 44,
     "metadata": {},
     "output_type": "execute_result"
    }
   ],
   "source": [
    "destinations['Name'].value_counts()"
   ]
  },
  {
   "cell_type": "code",
   "execution_count": 45,
   "metadata": {},
   "outputs": [
    {
     "data": {
      "text/plain": [
       "State\n",
       "Uttar Pradesh        200\n",
       "Goa                  200\n",
       "Rajasthan            200\n",
       "Kerala               200\n",
       "Jammu and Kashmir    200\n",
       "Name: count, dtype: int64"
      ]
     },
     "execution_count": 45,
     "metadata": {},
     "output_type": "execute_result"
    }
   ],
   "source": [
    "destinations['State'].value_counts()"
   ]
  },
  {
   "cell_type": "code",
   "execution_count": 46,
   "metadata": {},
   "outputs": [
    {
     "data": {
      "text/plain": [
       "Type\n",
       "Historical    200\n",
       "Beach         200\n",
       "City          200\n",
       "Nature        200\n",
       "Adventure     200\n",
       "Name: count, dtype: int64"
      ]
     },
     "execution_count": 46,
     "metadata": {},
     "output_type": "execute_result"
    }
   ],
   "source": [
    "destinations['Type'].value_counts()"
   ]
  },
  {
   "cell_type": "code",
   "execution_count": 40,
   "metadata": {},
   "outputs": [
    {
     "data": {
      "text/plain": [
       "0      Historical\n",
       "1           Beach\n",
       "2            City\n",
       "3          Nature\n",
       "4       Adventure\n",
       "          ...    \n",
       "995    Historical\n",
       "996         Beach\n",
       "997          City\n",
       "998        Nature\n",
       "999     Adventure\n",
       "Name: Type, Length: 1000, dtype: object"
      ]
     },
     "execution_count": 40,
     "metadata": {},
     "output_type": "execute_result"
    }
   ],
   "source": [
    "destinations['Type']"
   ]
  },
  {
   "cell_type": "code",
   "execution_count": 41,
   "metadata": {},
   "outputs": [
    {
     "data": {
      "text/plain": [
       "array(['Historical', 'Beach', 'City', 'Nature', 'Adventure'], dtype=object)"
      ]
     },
     "execution_count": 41,
     "metadata": {},
     "output_type": "execute_result"
    }
   ],
   "source": [
    "destinations['Type'].unique()"
   ]
  },
  {
   "cell_type": "code",
   "execution_count": 48,
   "metadata": {},
   "outputs": [
    {
     "data": {
      "text/plain": [
       "array(['Nov-Feb', 'Nov-Mar', 'Oct-Mar', 'Sep-Mar', 'Apr-Jun'],\n",
       "      dtype=object)"
      ]
     },
     "execution_count": 48,
     "metadata": {},
     "output_type": "execute_result"
    }
   ],
   "source": [
    "destinations['BestTimeToVisit'].unique()"
   ]
  },
  {
   "cell_type": "code",
   "execution_count": 49,
   "metadata": {},
   "outputs": [
    {
     "data": {
      "text/plain": [
       "BestTimeToVisit\n",
       "Nov-Feb    200\n",
       "Nov-Mar    200\n",
       "Oct-Mar    200\n",
       "Sep-Mar    200\n",
       "Apr-Jun    200\n",
       "Name: count, dtype: int64"
      ]
     },
     "execution_count": 49,
     "metadata": {},
     "output_type": "execute_result"
    }
   ],
   "source": [
    "destinations['BestTimeToVisit'].value_counts()"
   ]
  },
  {
   "cell_type": "code",
   "execution_count": 50,
   "metadata": {},
   "outputs": [
    {
     "data": {
      "text/html": [
       "<div>\n",
       "<style scoped>\n",
       "    .dataframe tbody tr th:only-of-type {\n",
       "        vertical-align: middle;\n",
       "    }\n",
       "\n",
       "    .dataframe tbody tr th {\n",
       "        vertical-align: top;\n",
       "    }\n",
       "\n",
       "    .dataframe thead th {\n",
       "        text-align: right;\n",
       "    }\n",
       "</style>\n",
       "<table border=\"1\" class=\"dataframe\">\n",
       "  <thead>\n",
       "    <tr style=\"text-align: right;\">\n",
       "      <th></th>\n",
       "      <th>DestinationID</th>\n",
       "      <th>Name</th>\n",
       "      <th>State</th>\n",
       "      <th>Type</th>\n",
       "      <th>Popularity</th>\n",
       "      <th>BestTimeToVisit</th>\n",
       "    </tr>\n",
       "  </thead>\n",
       "  <tbody>\n",
       "    <tr>\n",
       "      <th>0</th>\n",
       "      <td>1</td>\n",
       "      <td>Taj Mahal</td>\n",
       "      <td>Uttar Pradesh</td>\n",
       "      <td>Historical</td>\n",
       "      <td>8.691906</td>\n",
       "      <td>Nov-Feb</td>\n",
       "    </tr>\n",
       "    <tr>\n",
       "      <th>1</th>\n",
       "      <td>2</td>\n",
       "      <td>Goa Beaches</td>\n",
       "      <td>Goa</td>\n",
       "      <td>Beach</td>\n",
       "      <td>8.605032</td>\n",
       "      <td>Nov-Mar</td>\n",
       "    </tr>\n",
       "    <tr>\n",
       "      <th>2</th>\n",
       "      <td>3</td>\n",
       "      <td>Jaipur City</td>\n",
       "      <td>Rajasthan</td>\n",
       "      <td>City</td>\n",
       "      <td>9.225372</td>\n",
       "      <td>Oct-Mar</td>\n",
       "    </tr>\n",
       "    <tr>\n",
       "      <th>3</th>\n",
       "      <td>4</td>\n",
       "      <td>Kerala Backwaters</td>\n",
       "      <td>Kerala</td>\n",
       "      <td>Nature</td>\n",
       "      <td>7.977386</td>\n",
       "      <td>Sep-Mar</td>\n",
       "    </tr>\n",
       "    <tr>\n",
       "      <th>4</th>\n",
       "      <td>5</td>\n",
       "      <td>Leh Ladakh</td>\n",
       "      <td>Jammu and Kashmir</td>\n",
       "      <td>Adventure</td>\n",
       "      <td>8.399822</td>\n",
       "      <td>Apr-Jun</td>\n",
       "    </tr>\n",
       "  </tbody>\n",
       "</table>\n",
       "</div>"
      ],
      "text/plain": [
       "   DestinationID               Name              State        Type  \\\n",
       "0              1          Taj Mahal      Uttar Pradesh  Historical   \n",
       "1              2        Goa Beaches                Goa       Beach   \n",
       "2              3        Jaipur City          Rajasthan        City   \n",
       "3              4  Kerala Backwaters             Kerala      Nature   \n",
       "4              5         Leh Ladakh  Jammu and Kashmir   Adventure   \n",
       "\n",
       "   Popularity BestTimeToVisit  \n",
       "0    8.691906         Nov-Feb  \n",
       "1    8.605032         Nov-Mar  \n",
       "2    9.225372         Oct-Mar  \n",
       "3    7.977386         Sep-Mar  \n",
       "4    8.399822         Apr-Jun  "
      ]
     },
     "execution_count": 50,
     "metadata": {},
     "output_type": "execute_result"
    }
   ],
   "source": [
    "destinations.head()"
   ]
  },
  {
   "cell_type": "code",
   "execution_count": 119,
   "metadata": {},
   "outputs": [
    {
     "data": {
      "text/html": [
       "<div>\n",
       "<style scoped>\n",
       "    .dataframe tbody tr th:only-of-type {\n",
       "        vertical-align: middle;\n",
       "    }\n",
       "\n",
       "    .dataframe tbody tr th {\n",
       "        vertical-align: top;\n",
       "    }\n",
       "\n",
       "    .dataframe thead th {\n",
       "        text-align: right;\n",
       "    }\n",
       "</style>\n",
       "<table border=\"1\" class=\"dataframe\">\n",
       "  <thead>\n",
       "    <tr style=\"text-align: right;\">\n",
       "      <th></th>\n",
       "      <th>DestinationID</th>\n",
       "      <th>Type</th>\n",
       "      <th>Popularity</th>\n",
       "      <th>BestTimeToVisit</th>\n",
       "      <th>Name-State</th>\n",
       "    </tr>\n",
       "  </thead>\n",
       "  <tbody>\n",
       "    <tr>\n",
       "      <th>0</th>\n",
       "      <td>1</td>\n",
       "      <td>Historical</td>\n",
       "      <td>8.691906</td>\n",
       "      <td>Nov-Feb</td>\n",
       "      <td>Taj Mahal-Uttar Pradesh</td>\n",
       "    </tr>\n",
       "    <tr>\n",
       "      <th>1</th>\n",
       "      <td>2</td>\n",
       "      <td>Beach</td>\n",
       "      <td>8.605032</td>\n",
       "      <td>Nov-Mar</td>\n",
       "      <td>Goa Beaches-Goa</td>\n",
       "    </tr>\n",
       "    <tr>\n",
       "      <th>2</th>\n",
       "      <td>3</td>\n",
       "      <td>City</td>\n",
       "      <td>9.225372</td>\n",
       "      <td>Oct-Mar</td>\n",
       "      <td>Jaipur City-Rajasthan</td>\n",
       "    </tr>\n",
       "    <tr>\n",
       "      <th>3</th>\n",
       "      <td>4</td>\n",
       "      <td>Nature</td>\n",
       "      <td>7.977386</td>\n",
       "      <td>Sep-Mar</td>\n",
       "      <td>Kerala Backwaters-Kerala</td>\n",
       "    </tr>\n",
       "    <tr>\n",
       "      <th>4</th>\n",
       "      <td>5</td>\n",
       "      <td>Adventure</td>\n",
       "      <td>8.399822</td>\n",
       "      <td>Apr-Jun</td>\n",
       "      <td>Leh Ladakh-Jammu and Kashmir</td>\n",
       "    </tr>\n",
       "  </tbody>\n",
       "</table>\n",
       "</div>"
      ],
      "text/plain": [
       "   DestinationID        Type  Popularity BestTimeToVisit  \\\n",
       "0              1  Historical    8.691906         Nov-Feb   \n",
       "1              2       Beach    8.605032         Nov-Mar   \n",
       "2              3        City    9.225372         Oct-Mar   \n",
       "3              4      Nature    7.977386         Sep-Mar   \n",
       "4              5   Adventure    8.399822         Apr-Jun   \n",
       "\n",
       "                     Name-State  \n",
       "0       Taj Mahal-Uttar Pradesh  \n",
       "1               Goa Beaches-Goa  \n",
       "2         Jaipur City-Rajasthan  \n",
       "3      Kerala Backwaters-Kerala  \n",
       "4  Leh Ladakh-Jammu and Kashmir  "
      ]
     },
     "execution_count": 119,
     "metadata": {},
     "output_type": "execute_result"
    }
   ],
   "source": [
    "destinations['Name-State']= destinations['Name'] + '-' + destinations['State']\n",
    "destinations.drop(columns= ['Name', 'State'], inplace= True)\n",
    "destinations.head()"
   ]
  },
  {
   "cell_type": "code",
   "execution_count": 120,
   "metadata": {},
   "outputs": [
    {
     "data": {
      "text/html": [
       "<div>\n",
       "<style scoped>\n",
       "    .dataframe tbody tr th:only-of-type {\n",
       "        vertical-align: middle;\n",
       "    }\n",
       "\n",
       "    .dataframe tbody tr th {\n",
       "        vertical-align: top;\n",
       "    }\n",
       "\n",
       "    .dataframe thead th {\n",
       "        text-align: right;\n",
       "    }\n",
       "</style>\n",
       "<table border=\"1\" class=\"dataframe\">\n",
       "  <thead>\n",
       "    <tr style=\"text-align: right;\">\n",
       "      <th></th>\n",
       "      <th>DestinationID</th>\n",
       "      <th>Name-State</th>\n",
       "      <th>Type</th>\n",
       "      <th>Popularity</th>\n",
       "      <th>BestTimeToVisit</th>\n",
       "    </tr>\n",
       "  </thead>\n",
       "  <tbody>\n",
       "    <tr>\n",
       "      <th>0</th>\n",
       "      <td>1</td>\n",
       "      <td>Taj Mahal-Uttar Pradesh</td>\n",
       "      <td>Historical</td>\n",
       "      <td>8.691906</td>\n",
       "      <td>Nov-Feb</td>\n",
       "    </tr>\n",
       "    <tr>\n",
       "      <th>1</th>\n",
       "      <td>2</td>\n",
       "      <td>Goa Beaches-Goa</td>\n",
       "      <td>Beach</td>\n",
       "      <td>8.605032</td>\n",
       "      <td>Nov-Mar</td>\n",
       "    </tr>\n",
       "    <tr>\n",
       "      <th>2</th>\n",
       "      <td>3</td>\n",
       "      <td>Jaipur City-Rajasthan</td>\n",
       "      <td>City</td>\n",
       "      <td>9.225372</td>\n",
       "      <td>Oct-Mar</td>\n",
       "    </tr>\n",
       "    <tr>\n",
       "      <th>3</th>\n",
       "      <td>4</td>\n",
       "      <td>Kerala Backwaters-Kerala</td>\n",
       "      <td>Nature</td>\n",
       "      <td>7.977386</td>\n",
       "      <td>Sep-Mar</td>\n",
       "    </tr>\n",
       "    <tr>\n",
       "      <th>4</th>\n",
       "      <td>5</td>\n",
       "      <td>Leh Ladakh-Jammu and Kashmir</td>\n",
       "      <td>Adventure</td>\n",
       "      <td>8.399822</td>\n",
       "      <td>Apr-Jun</td>\n",
       "    </tr>\n",
       "  </tbody>\n",
       "</table>\n",
       "</div>"
      ],
      "text/plain": [
       "   DestinationID                    Name-State        Type  Popularity  \\\n",
       "0              1       Taj Mahal-Uttar Pradesh  Historical    8.691906   \n",
       "1              2               Goa Beaches-Goa       Beach    8.605032   \n",
       "2              3         Jaipur City-Rajasthan        City    9.225372   \n",
       "3              4      Kerala Backwaters-Kerala      Nature    7.977386   \n",
       "4              5  Leh Ladakh-Jammu and Kashmir   Adventure    8.399822   \n",
       "\n",
       "  BestTimeToVisit  \n",
       "0         Nov-Feb  \n",
       "1         Nov-Mar  \n",
       "2         Oct-Mar  \n",
       "3         Sep-Mar  \n",
       "4         Apr-Jun  "
      ]
     },
     "execution_count": 120,
     "metadata": {},
     "output_type": "execute_result"
    }
   ],
   "source": [
    "columns= destinations.columns.to_list()\n",
    "ls= [columns[0], columns[-1], columns[1], columns[2], columns[3]]\n",
    "columns= ls\n",
    "destinations= destinations[columns]\n",
    "destinations.head()"
   ]
  },
  {
   "cell_type": "code",
   "execution_count": 124,
   "metadata": {},
   "outputs": [
    {
     "data": {
      "text/html": [
       "<div>\n",
       "<style scoped>\n",
       "    .dataframe tbody tr th:only-of-type {\n",
       "        vertical-align: middle;\n",
       "    }\n",
       "\n",
       "    .dataframe tbody tr th {\n",
       "        vertical-align: top;\n",
       "    }\n",
       "\n",
       "    .dataframe thead th {\n",
       "        text-align: right;\n",
       "    }\n",
       "</style>\n",
       "<table border=\"1\" class=\"dataframe\">\n",
       "  <thead>\n",
       "    <tr style=\"text-align: right;\">\n",
       "      <th></th>\n",
       "      <th>Name-State</th>\n",
       "      <th>Popularity</th>\n",
       "    </tr>\n",
       "  </thead>\n",
       "  <tbody>\n",
       "    <tr>\n",
       "      <th>0</th>\n",
       "      <td>Goa Beaches-Goa</td>\n",
       "      <td>8.495206</td>\n",
       "    </tr>\n",
       "    <tr>\n",
       "      <th>1</th>\n",
       "      <td>Jaipur City-Rajasthan</td>\n",
       "      <td>8.530317</td>\n",
       "    </tr>\n",
       "    <tr>\n",
       "      <th>2</th>\n",
       "      <td>Kerala Backwaters-Kerala</td>\n",
       "      <td>8.490535</td>\n",
       "    </tr>\n",
       "    <tr>\n",
       "      <th>3</th>\n",
       "      <td>Leh Ladakh-Jammu and Kashmir</td>\n",
       "      <td>8.504099</td>\n",
       "    </tr>\n",
       "    <tr>\n",
       "      <th>4</th>\n",
       "      <td>Taj Mahal-Uttar Pradesh</td>\n",
       "      <td>8.549476</td>\n",
       "    </tr>\n",
       "  </tbody>\n",
       "</table>\n",
       "</div>"
      ],
      "text/plain": [
       "                     Name-State  Popularity\n",
       "0               Goa Beaches-Goa    8.495206\n",
       "1         Jaipur City-Rajasthan    8.530317\n",
       "2      Kerala Backwaters-Kerala    8.490535\n",
       "3  Leh Ladakh-Jammu and Kashmir    8.504099\n",
       "4       Taj Mahal-Uttar Pradesh    8.549476"
      ]
     },
     "execution_count": 124,
     "metadata": {},
     "output_type": "execute_result"
    }
   ],
   "source": [
    "destinations.groupby(['Name-State'])['Popularity'].mean().reset_index().sort_values(by= 'Name-State')"
   ]
  },
  {
   "cell_type": "code",
   "execution_count": 125,
   "metadata": {},
   "outputs": [
    {
     "data": {
      "text/plain": [
       "array([8.49520572, 8.53031711, 8.490535  , 8.50409875, 8.54947627])"
      ]
     },
     "execution_count": 125,
     "metadata": {},
     "output_type": "execute_result"
    }
   ],
   "source": [
    "average_popularity= destinations.groupby(['Name-State'])['Popularity'].mean().reset_index().sort_values(by= 'Name-State')['Popularity'].values\n",
    "average_popularity"
   ]
  },
  {
   "cell_type": "code",
   "execution_count": 126,
   "metadata": {},
   "outputs": [
    {
     "data": {
      "text/html": [
       "<div>\n",
       "<style scoped>\n",
       "    .dataframe tbody tr th:only-of-type {\n",
       "        vertical-align: middle;\n",
       "    }\n",
       "\n",
       "    .dataframe tbody tr th {\n",
       "        vertical-align: top;\n",
       "    }\n",
       "\n",
       "    .dataframe thead th {\n",
       "        text-align: right;\n",
       "    }\n",
       "</style>\n",
       "<table border=\"1\" class=\"dataframe\">\n",
       "  <thead>\n",
       "    <tr style=\"text-align: right;\">\n",
       "      <th></th>\n",
       "      <th>DestinationID</th>\n",
       "      <th>Name-State</th>\n",
       "      <th>Type</th>\n",
       "      <th>Popularity</th>\n",
       "      <th>BestTimeToVisit</th>\n",
       "    </tr>\n",
       "  </thead>\n",
       "  <tbody>\n",
       "    <tr>\n",
       "      <th>0</th>\n",
       "      <td>1</td>\n",
       "      <td>Taj Mahal-Uttar Pradesh</td>\n",
       "      <td>Historical</td>\n",
       "      <td>8.691906</td>\n",
       "      <td>Nov-Feb</td>\n",
       "    </tr>\n",
       "    <tr>\n",
       "      <th>1</th>\n",
       "      <td>2</td>\n",
       "      <td>Goa Beaches-Goa</td>\n",
       "      <td>Beach</td>\n",
       "      <td>8.605032</td>\n",
       "      <td>Nov-Mar</td>\n",
       "    </tr>\n",
       "    <tr>\n",
       "      <th>2</th>\n",
       "      <td>3</td>\n",
       "      <td>Jaipur City-Rajasthan</td>\n",
       "      <td>City</td>\n",
       "      <td>9.225372</td>\n",
       "      <td>Oct-Mar</td>\n",
       "    </tr>\n",
       "    <tr>\n",
       "      <th>3</th>\n",
       "      <td>4</td>\n",
       "      <td>Kerala Backwaters-Kerala</td>\n",
       "      <td>Nature</td>\n",
       "      <td>7.977386</td>\n",
       "      <td>Sep-Mar</td>\n",
       "    </tr>\n",
       "    <tr>\n",
       "      <th>4</th>\n",
       "      <td>5</td>\n",
       "      <td>Leh Ladakh-Jammu and Kashmir</td>\n",
       "      <td>Adventure</td>\n",
       "      <td>8.399822</td>\n",
       "      <td>Apr-Jun</td>\n",
       "    </tr>\n",
       "  </tbody>\n",
       "</table>\n",
       "</div>"
      ],
      "text/plain": [
       "   DestinationID                    Name-State        Type  Popularity  \\\n",
       "0              1       Taj Mahal-Uttar Pradesh  Historical    8.691906   \n",
       "1              2               Goa Beaches-Goa       Beach    8.605032   \n",
       "2              3         Jaipur City-Rajasthan        City    9.225372   \n",
       "3              4      Kerala Backwaters-Kerala      Nature    7.977386   \n",
       "4              5  Leh Ladakh-Jammu and Kashmir   Adventure    8.399822   \n",
       "\n",
       "  BestTimeToVisit  \n",
       "0         Nov-Feb  \n",
       "1         Nov-Mar  \n",
       "2         Oct-Mar  \n",
       "3         Sep-Mar  \n",
       "4         Apr-Jun  "
      ]
     },
     "execution_count": 126,
     "metadata": {},
     "output_type": "execute_result"
    }
   ],
   "source": [
    "destinations= destinations.iloc[ : 5]\n",
    "destinations"
   ]
  },
  {
   "cell_type": "code",
   "execution_count": 128,
   "metadata": {},
   "outputs": [
    {
     "data": {
      "text/html": [
       "<div>\n",
       "<style scoped>\n",
       "    .dataframe tbody tr th:only-of-type {\n",
       "        vertical-align: middle;\n",
       "    }\n",
       "\n",
       "    .dataframe tbody tr th {\n",
       "        vertical-align: top;\n",
       "    }\n",
       "\n",
       "    .dataframe thead th {\n",
       "        text-align: right;\n",
       "    }\n",
       "</style>\n",
       "<table border=\"1\" class=\"dataframe\">\n",
       "  <thead>\n",
       "    <tr style=\"text-align: right;\">\n",
       "      <th></th>\n",
       "      <th>DestinationID</th>\n",
       "      <th>Name-State</th>\n",
       "      <th>Type</th>\n",
       "      <th>Popularity</th>\n",
       "      <th>BestTimeToVisit</th>\n",
       "    </tr>\n",
       "  </thead>\n",
       "  <tbody>\n",
       "    <tr>\n",
       "      <th>1</th>\n",
       "      <td>2</td>\n",
       "      <td>Goa Beaches-Goa</td>\n",
       "      <td>Beach</td>\n",
       "      <td>8.605032</td>\n",
       "      <td>Nov-Mar</td>\n",
       "    </tr>\n",
       "    <tr>\n",
       "      <th>2</th>\n",
       "      <td>3</td>\n",
       "      <td>Jaipur City-Rajasthan</td>\n",
       "      <td>City</td>\n",
       "      <td>9.225372</td>\n",
       "      <td>Oct-Mar</td>\n",
       "    </tr>\n",
       "    <tr>\n",
       "      <th>3</th>\n",
       "      <td>4</td>\n",
       "      <td>Kerala Backwaters-Kerala</td>\n",
       "      <td>Nature</td>\n",
       "      <td>7.977386</td>\n",
       "      <td>Sep-Mar</td>\n",
       "    </tr>\n",
       "    <tr>\n",
       "      <th>4</th>\n",
       "      <td>5</td>\n",
       "      <td>Leh Ladakh-Jammu and Kashmir</td>\n",
       "      <td>Adventure</td>\n",
       "      <td>8.399822</td>\n",
       "      <td>Apr-Jun</td>\n",
       "    </tr>\n",
       "    <tr>\n",
       "      <th>0</th>\n",
       "      <td>1</td>\n",
       "      <td>Taj Mahal-Uttar Pradesh</td>\n",
       "      <td>Historical</td>\n",
       "      <td>8.691906</td>\n",
       "      <td>Nov-Feb</td>\n",
       "    </tr>\n",
       "  </tbody>\n",
       "</table>\n",
       "</div>"
      ],
      "text/plain": [
       "   DestinationID                    Name-State        Type  Popularity  \\\n",
       "1              2               Goa Beaches-Goa       Beach    8.605032   \n",
       "2              3         Jaipur City-Rajasthan        City    9.225372   \n",
       "3              4      Kerala Backwaters-Kerala      Nature    7.977386   \n",
       "4              5  Leh Ladakh-Jammu and Kashmir   Adventure    8.399822   \n",
       "0              1       Taj Mahal-Uttar Pradesh  Historical    8.691906   \n",
       "\n",
       "  BestTimeToVisit  \n",
       "1         Nov-Mar  \n",
       "2         Oct-Mar  \n",
       "3         Sep-Mar  \n",
       "4         Apr-Jun  \n",
       "0         Nov-Feb  "
      ]
     },
     "execution_count": 128,
     "metadata": {},
     "output_type": "execute_result"
    }
   ],
   "source": [
    "destinations.sort_values(by= 'Name-State', inplace= True)\n",
    "destinations"
   ]
  },
  {
   "cell_type": "code",
   "execution_count": 129,
   "metadata": {},
   "outputs": [],
   "source": [
    "destinations['Popularity']= average_popularity"
   ]
  },
  {
   "cell_type": "code",
   "execution_count": 131,
   "metadata": {},
   "outputs": [],
   "source": [
    "destinations.sort_index(inplace= True)"
   ]
  },
  {
   "cell_type": "code",
   "execution_count": 132,
   "metadata": {},
   "outputs": [
    {
     "data": {
      "text/html": [
       "<div>\n",
       "<style scoped>\n",
       "    .dataframe tbody tr th:only-of-type {\n",
       "        vertical-align: middle;\n",
       "    }\n",
       "\n",
       "    .dataframe tbody tr th {\n",
       "        vertical-align: top;\n",
       "    }\n",
       "\n",
       "    .dataframe thead th {\n",
       "        text-align: right;\n",
       "    }\n",
       "</style>\n",
       "<table border=\"1\" class=\"dataframe\">\n",
       "  <thead>\n",
       "    <tr style=\"text-align: right;\">\n",
       "      <th></th>\n",
       "      <th>DestinationID</th>\n",
       "      <th>Name-State</th>\n",
       "      <th>Type</th>\n",
       "      <th>Popularity</th>\n",
       "      <th>BestTimeToVisit</th>\n",
       "    </tr>\n",
       "  </thead>\n",
       "  <tbody>\n",
       "    <tr>\n",
       "      <th>0</th>\n",
       "      <td>1</td>\n",
       "      <td>Taj Mahal-Uttar Pradesh</td>\n",
       "      <td>Historical</td>\n",
       "      <td>8.549476</td>\n",
       "      <td>Nov-Feb</td>\n",
       "    </tr>\n",
       "    <tr>\n",
       "      <th>1</th>\n",
       "      <td>2</td>\n",
       "      <td>Goa Beaches-Goa</td>\n",
       "      <td>Beach</td>\n",
       "      <td>8.495206</td>\n",
       "      <td>Nov-Mar</td>\n",
       "    </tr>\n",
       "    <tr>\n",
       "      <th>2</th>\n",
       "      <td>3</td>\n",
       "      <td>Jaipur City-Rajasthan</td>\n",
       "      <td>City</td>\n",
       "      <td>8.530317</td>\n",
       "      <td>Oct-Mar</td>\n",
       "    </tr>\n",
       "    <tr>\n",
       "      <th>3</th>\n",
       "      <td>4</td>\n",
       "      <td>Kerala Backwaters-Kerala</td>\n",
       "      <td>Nature</td>\n",
       "      <td>8.490535</td>\n",
       "      <td>Sep-Mar</td>\n",
       "    </tr>\n",
       "    <tr>\n",
       "      <th>4</th>\n",
       "      <td>5</td>\n",
       "      <td>Leh Ladakh-Jammu and Kashmir</td>\n",
       "      <td>Adventure</td>\n",
       "      <td>8.504099</td>\n",
       "      <td>Apr-Jun</td>\n",
       "    </tr>\n",
       "  </tbody>\n",
       "</table>\n",
       "</div>"
      ],
      "text/plain": [
       "   DestinationID                    Name-State        Type  Popularity  \\\n",
       "0              1       Taj Mahal-Uttar Pradesh  Historical    8.549476   \n",
       "1              2               Goa Beaches-Goa       Beach    8.495206   \n",
       "2              3         Jaipur City-Rajasthan        City    8.530317   \n",
       "3              4      Kerala Backwaters-Kerala      Nature    8.490535   \n",
       "4              5  Leh Ladakh-Jammu and Kashmir   Adventure    8.504099   \n",
       "\n",
       "  BestTimeToVisit  \n",
       "0         Nov-Feb  \n",
       "1         Nov-Mar  \n",
       "2         Oct-Mar  \n",
       "3         Sep-Mar  \n",
       "4         Apr-Jun  "
      ]
     },
     "execution_count": 132,
     "metadata": {},
     "output_type": "execute_result"
    }
   ],
   "source": [
    "destinations"
   ]
  },
  {
   "cell_type": "markdown",
   "metadata": {},
   "source": [
    "----"
   ]
  },
  {
   "cell_type": "markdown",
   "metadata": {},
   "source": [
    "# Users"
   ]
  },
  {
   "cell_type": "code",
   "execution_count": 64,
   "metadata": {},
   "outputs": [],
   "source": [
    "users= Users.copy()"
   ]
  },
  {
   "cell_type": "code",
   "execution_count": 65,
   "metadata": {},
   "outputs": [
    {
     "data": {
      "text/html": [
       "<div>\n",
       "<style scoped>\n",
       "    .dataframe tbody tr th:only-of-type {\n",
       "        vertical-align: middle;\n",
       "    }\n",
       "\n",
       "    .dataframe tbody tr th {\n",
       "        vertical-align: top;\n",
       "    }\n",
       "\n",
       "    .dataframe thead th {\n",
       "        text-align: right;\n",
       "    }\n",
       "</style>\n",
       "<table border=\"1\" class=\"dataframe\">\n",
       "  <thead>\n",
       "    <tr style=\"text-align: right;\">\n",
       "      <th></th>\n",
       "      <th>UserID</th>\n",
       "      <th>Name</th>\n",
       "      <th>Email</th>\n",
       "      <th>Preferences</th>\n",
       "      <th>Gender</th>\n",
       "      <th>NumberOfAdults</th>\n",
       "      <th>NumberOfChildren</th>\n",
       "    </tr>\n",
       "  </thead>\n",
       "  <tbody>\n",
       "    <tr>\n",
       "      <th>0</th>\n",
       "      <td>1</td>\n",
       "      <td>Kavya</td>\n",
       "      <td>kavya@example.com</td>\n",
       "      <td>Beaches, Historical</td>\n",
       "      <td>Female</td>\n",
       "      <td>1</td>\n",
       "      <td>0</td>\n",
       "    </tr>\n",
       "    <tr>\n",
       "      <th>1</th>\n",
       "      <td>2</td>\n",
       "      <td>Rohan</td>\n",
       "      <td>rohan@example.com</td>\n",
       "      <td>Nature, Adventure</td>\n",
       "      <td>Male</td>\n",
       "      <td>2</td>\n",
       "      <td>2</td>\n",
       "    </tr>\n",
       "    <tr>\n",
       "      <th>2</th>\n",
       "      <td>3</td>\n",
       "      <td>Kavya</td>\n",
       "      <td>kavya@example.com</td>\n",
       "      <td>City, Historical</td>\n",
       "      <td>Female</td>\n",
       "      <td>2</td>\n",
       "      <td>0</td>\n",
       "    </tr>\n",
       "    <tr>\n",
       "      <th>3</th>\n",
       "      <td>4</td>\n",
       "      <td>Anika</td>\n",
       "      <td>anika@example.com</td>\n",
       "      <td>Beaches, Historical</td>\n",
       "      <td>Female</td>\n",
       "      <td>1</td>\n",
       "      <td>0</td>\n",
       "    </tr>\n",
       "    <tr>\n",
       "      <th>4</th>\n",
       "      <td>5</td>\n",
       "      <td>Tanvi</td>\n",
       "      <td>tanvi@example.com</td>\n",
       "      <td>Nature, Adventure</td>\n",
       "      <td>Female</td>\n",
       "      <td>2</td>\n",
       "      <td>2</td>\n",
       "    </tr>\n",
       "  </tbody>\n",
       "</table>\n",
       "</div>"
      ],
      "text/plain": [
       "   UserID   Name              Email          Preferences  Gender  \\\n",
       "0       1  Kavya  kavya@example.com  Beaches, Historical  Female   \n",
       "1       2  Rohan  rohan@example.com    Nature, Adventure    Male   \n",
       "2       3  Kavya  kavya@example.com     City, Historical  Female   \n",
       "3       4  Anika  anika@example.com  Beaches, Historical  Female   \n",
       "4       5  Tanvi  tanvi@example.com    Nature, Adventure  Female   \n",
       "\n",
       "   NumberOfAdults  NumberOfChildren  \n",
       "0               1                 0  \n",
       "1               2                 2  \n",
       "2               2                 0  \n",
       "3               1                 0  \n",
       "4               2                 2  "
      ]
     },
     "execution_count": 65,
     "metadata": {},
     "output_type": "execute_result"
    }
   ],
   "source": [
    "users.head()"
   ]
  },
  {
   "cell_type": "code",
   "execution_count": 133,
   "metadata": {},
   "outputs": [
    {
     "data": {
      "text/plain": [
       "(999, 7)"
      ]
     },
     "execution_count": 133,
     "metadata": {},
     "output_type": "execute_result"
    }
   ],
   "source": [
    "users.shape"
   ]
  },
  {
   "cell_type": "code",
   "execution_count": 134,
   "metadata": {},
   "outputs": [
    {
     "name": "stdout",
     "output_type": "stream",
     "text": [
      "<class 'pandas.core.frame.DataFrame'>\n",
      "RangeIndex: 999 entries, 0 to 998\n",
      "Data columns (total 7 columns):\n",
      " #   Column            Non-Null Count  Dtype \n",
      "---  ------            --------------  ----- \n",
      " 0   UserID            999 non-null    int64 \n",
      " 1   Name              999 non-null    object\n",
      " 2   Email             999 non-null    object\n",
      " 3   Preferences       999 non-null    object\n",
      " 4   Gender            999 non-null    object\n",
      " 5   NumberOfAdults    999 non-null    int64 \n",
      " 6   NumberOfChildren  999 non-null    int64 \n",
      "dtypes: int64(3), object(4)\n",
      "memory usage: 54.8+ KB\n"
     ]
    }
   ],
   "source": [
    "users.info()"
   ]
  },
  {
   "cell_type": "code",
   "execution_count": 135,
   "metadata": {},
   "outputs": [
    {
     "data": {
      "text/html": [
       "<div>\n",
       "<style scoped>\n",
       "    .dataframe tbody tr th:only-of-type {\n",
       "        vertical-align: middle;\n",
       "    }\n",
       "\n",
       "    .dataframe tbody tr th {\n",
       "        vertical-align: top;\n",
       "    }\n",
       "\n",
       "    .dataframe thead th {\n",
       "        text-align: right;\n",
       "    }\n",
       "</style>\n",
       "<table border=\"1\" class=\"dataframe\">\n",
       "  <thead>\n",
       "    <tr style=\"text-align: right;\">\n",
       "      <th></th>\n",
       "      <th>UserID</th>\n",
       "      <th>NumberOfAdults</th>\n",
       "      <th>NumberOfChildren</th>\n",
       "    </tr>\n",
       "  </thead>\n",
       "  <tbody>\n",
       "    <tr>\n",
       "      <th>count</th>\n",
       "      <td>999.000000</td>\n",
       "      <td>999.000000</td>\n",
       "      <td>999.000000</td>\n",
       "    </tr>\n",
       "    <tr>\n",
       "      <th>mean</th>\n",
       "      <td>500.000000</td>\n",
       "      <td>1.504505</td>\n",
       "      <td>0.981982</td>\n",
       "    </tr>\n",
       "    <tr>\n",
       "      <th>std</th>\n",
       "      <td>288.530761</td>\n",
       "      <td>0.500230</td>\n",
       "      <td>0.811784</td>\n",
       "    </tr>\n",
       "    <tr>\n",
       "      <th>min</th>\n",
       "      <td>1.000000</td>\n",
       "      <td>1.000000</td>\n",
       "      <td>0.000000</td>\n",
       "    </tr>\n",
       "    <tr>\n",
       "      <th>25%</th>\n",
       "      <td>250.500000</td>\n",
       "      <td>1.000000</td>\n",
       "      <td>0.000000</td>\n",
       "    </tr>\n",
       "    <tr>\n",
       "      <th>50%</th>\n",
       "      <td>500.000000</td>\n",
       "      <td>2.000000</td>\n",
       "      <td>1.000000</td>\n",
       "    </tr>\n",
       "    <tr>\n",
       "      <th>75%</th>\n",
       "      <td>749.500000</td>\n",
       "      <td>2.000000</td>\n",
       "      <td>2.000000</td>\n",
       "    </tr>\n",
       "    <tr>\n",
       "      <th>max</th>\n",
       "      <td>999.000000</td>\n",
       "      <td>2.000000</td>\n",
       "      <td>2.000000</td>\n",
       "    </tr>\n",
       "  </tbody>\n",
       "</table>\n",
       "</div>"
      ],
      "text/plain": [
       "           UserID  NumberOfAdults  NumberOfChildren\n",
       "count  999.000000      999.000000        999.000000\n",
       "mean   500.000000        1.504505          0.981982\n",
       "std    288.530761        0.500230          0.811784\n",
       "min      1.000000        1.000000          0.000000\n",
       "25%    250.500000        1.000000          0.000000\n",
       "50%    500.000000        2.000000          1.000000\n",
       "75%    749.500000        2.000000          2.000000\n",
       "max    999.000000        2.000000          2.000000"
      ]
     },
     "execution_count": 135,
     "metadata": {},
     "output_type": "execute_result"
    }
   ],
   "source": [
    "users.describe()"
   ]
  },
  {
   "cell_type": "code",
   "execution_count": 136,
   "metadata": {},
   "outputs": [
    {
     "data": {
      "text/plain": [
       "Index(['UserID', 'Name', 'Email', 'Preferences', 'Gender', 'NumberOfAdults',\n",
       "       'NumberOfChildren'],\n",
       "      dtype='object')"
      ]
     },
     "execution_count": 136,
     "metadata": {},
     "output_type": "execute_result"
    }
   ],
   "source": [
    "users.columns"
   ]
  },
  {
   "cell_type": "code",
   "execution_count": 140,
   "metadata": {},
   "outputs": [
    {
     "data": {
      "text/plain": [
       "999"
      ]
     },
     "execution_count": 140,
     "metadata": {},
     "output_type": "execute_result"
    }
   ],
   "source": [
    "len(users['UserID'].unique())"
   ]
  },
  {
   "cell_type": "code",
   "execution_count": 141,
   "metadata": {},
   "outputs": [
    {
     "data": {
      "text/plain": [
       "0       Kavya\n",
       "1       Rohan\n",
       "2       Kavya\n",
       "3       Anika\n",
       "4       Tanvi\n",
       "        ...  \n",
       "994     Karan\n",
       "995     Dhruv\n",
       "996     Karan\n",
       "997    Aditya\n",
       "998    Hitesh\n",
       "Name: Name, Length: 999, dtype: object"
      ]
     },
     "execution_count": 141,
     "metadata": {},
     "output_type": "execute_result"
    }
   ],
   "source": [
    "users['Name']"
   ]
  },
  {
   "cell_type": "code",
   "execution_count": 142,
   "metadata": {},
   "outputs": [
    {
     "data": {
      "text/plain": [
       "array(['Kavya', 'Rohan', 'Anika', 'Tanvi', 'Karan', 'Vivaan', 'Riya',\n",
       "       'Dhruv', 'Meera', 'Aanya', 'Arjun', 'Diya', 'Ritvik', 'Aarav',\n",
       "       'Aditya', 'Ishaan', 'Pooja', 'Hitesh', 'Isha', 'Saanvi'],\n",
       "      dtype=object)"
      ]
     },
     "execution_count": 142,
     "metadata": {},
     "output_type": "execute_result"
    }
   ],
   "source": [
    "users['Name'].unique()"
   ]
  },
  {
   "cell_type": "code",
   "execution_count": 144,
   "metadata": {},
   "outputs": [
    {
     "data": {
      "text/plain": [
       "array(['kavya@example.com', 'rohan@example.com', 'anika@example.com',\n",
       "       'tanvi@example.com', 'karan@example.com', 'vivaan@example.com',\n",
       "       'riya@example.com', 'dhruv@example.com', 'meera@example.com',\n",
       "       'aanya@example.com', 'arjun@example.com', 'diya@example.com',\n",
       "       'ritvik@example.com', 'aarav@example.com', 'aditya@example.com',\n",
       "       'ishaan@example.com', 'pooja@example.com', 'hitesh@example.com',\n",
       "       'isha@example.com', 'saanvi@example.com'], dtype=object)"
      ]
     },
     "execution_count": 144,
     "metadata": {},
     "output_type": "execute_result"
    }
   ],
   "source": [
    "users['Email'].unique()"
   ]
  },
  {
   "cell_type": "code",
   "execution_count": 146,
   "metadata": {},
   "outputs": [
    {
     "data": {
      "text/plain": [
       "array(['Beaches, Historical', 'Nature, Adventure', 'City, Historical'],\n",
       "      dtype=object)"
      ]
     },
     "execution_count": 146,
     "metadata": {},
     "output_type": "execute_result"
    }
   ],
   "source": [
    "users['Preferences'].unique()"
   ]
  },
  {
   "cell_type": "code",
   "execution_count": 154,
   "metadata": {},
   "outputs": [
    {
     "data": {
      "text/html": [
       "<div>\n",
       "<style scoped>\n",
       "    .dataframe tbody tr th:only-of-type {\n",
       "        vertical-align: middle;\n",
       "    }\n",
       "\n",
       "    .dataframe tbody tr th {\n",
       "        vertical-align: top;\n",
       "    }\n",
       "\n",
       "    .dataframe thead th {\n",
       "        text-align: right;\n",
       "    }\n",
       "</style>\n",
       "<table border=\"1\" class=\"dataframe\">\n",
       "  <thead>\n",
       "    <tr style=\"text-align: right;\">\n",
       "      <th></th>\n",
       "      <th>UserID</th>\n",
       "      <th>Name</th>\n",
       "      <th>Email</th>\n",
       "      <th>Preferences</th>\n",
       "      <th>Gender</th>\n",
       "      <th>NumberOfAdults</th>\n",
       "      <th>NumberOfChildren</th>\n",
       "    </tr>\n",
       "  </thead>\n",
       "  <tbody>\n",
       "    <tr>\n",
       "      <th>0</th>\n",
       "      <td>1</td>\n",
       "      <td>Kavya</td>\n",
       "      <td>kavya@example.com</td>\n",
       "      <td>Beaches, Historical</td>\n",
       "      <td>Female</td>\n",
       "      <td>1</td>\n",
       "      <td>0</td>\n",
       "    </tr>\n",
       "    <tr>\n",
       "      <th>1</th>\n",
       "      <td>2</td>\n",
       "      <td>Rohan</td>\n",
       "      <td>rohan@example.com</td>\n",
       "      <td>Nature, Adventure</td>\n",
       "      <td>Male</td>\n",
       "      <td>2</td>\n",
       "      <td>2</td>\n",
       "    </tr>\n",
       "    <tr>\n",
       "      <th>2</th>\n",
       "      <td>3</td>\n",
       "      <td>Kavya</td>\n",
       "      <td>kavya@example.com</td>\n",
       "      <td>City, Historical</td>\n",
       "      <td>Female</td>\n",
       "      <td>2</td>\n",
       "      <td>0</td>\n",
       "    </tr>\n",
       "    <tr>\n",
       "      <th>3</th>\n",
       "      <td>4</td>\n",
       "      <td>Anika</td>\n",
       "      <td>anika@example.com</td>\n",
       "      <td>Beaches, Historical</td>\n",
       "      <td>Female</td>\n",
       "      <td>1</td>\n",
       "      <td>0</td>\n",
       "    </tr>\n",
       "    <tr>\n",
       "      <th>4</th>\n",
       "      <td>5</td>\n",
       "      <td>Tanvi</td>\n",
       "      <td>tanvi@example.com</td>\n",
       "      <td>Nature, Adventure</td>\n",
       "      <td>Female</td>\n",
       "      <td>2</td>\n",
       "      <td>2</td>\n",
       "    </tr>\n",
       "    <tr>\n",
       "      <th>...</th>\n",
       "      <td>...</td>\n",
       "      <td>...</td>\n",
       "      <td>...</td>\n",
       "      <td>...</td>\n",
       "      <td>...</td>\n",
       "      <td>...</td>\n",
       "      <td>...</td>\n",
       "    </tr>\n",
       "    <tr>\n",
       "      <th>994</th>\n",
       "      <td>995</td>\n",
       "      <td>Karan</td>\n",
       "      <td>karan@example.com</td>\n",
       "      <td>Nature, Adventure</td>\n",
       "      <td>Male</td>\n",
       "      <td>1</td>\n",
       "      <td>0</td>\n",
       "    </tr>\n",
       "    <tr>\n",
       "      <th>995</th>\n",
       "      <td>996</td>\n",
       "      <td>Dhruv</td>\n",
       "      <td>dhruv@example.com</td>\n",
       "      <td>City, Historical</td>\n",
       "      <td>Male</td>\n",
       "      <td>1</td>\n",
       "      <td>1</td>\n",
       "    </tr>\n",
       "    <tr>\n",
       "      <th>996</th>\n",
       "      <td>997</td>\n",
       "      <td>Karan</td>\n",
       "      <td>karan@example.com</td>\n",
       "      <td>Beaches, Historical</td>\n",
       "      <td>Male</td>\n",
       "      <td>1</td>\n",
       "      <td>2</td>\n",
       "    </tr>\n",
       "    <tr>\n",
       "      <th>997</th>\n",
       "      <td>998</td>\n",
       "      <td>Aditya</td>\n",
       "      <td>aditya@example.com</td>\n",
       "      <td>Nature, Adventure</td>\n",
       "      <td>Male</td>\n",
       "      <td>1</td>\n",
       "      <td>1</td>\n",
       "    </tr>\n",
       "    <tr>\n",
       "      <th>998</th>\n",
       "      <td>999</td>\n",
       "      <td>Hitesh</td>\n",
       "      <td>hitesh@example.com</td>\n",
       "      <td>City, Historical</td>\n",
       "      <td>Male</td>\n",
       "      <td>2</td>\n",
       "      <td>2</td>\n",
       "    </tr>\n",
       "  </tbody>\n",
       "</table>\n",
       "<p>999 rows × 7 columns</p>\n",
       "</div>"
      ],
      "text/plain": [
       "     UserID    Name               Email          Preferences  Gender  \\\n",
       "0         1   Kavya   kavya@example.com  Beaches, Historical  Female   \n",
       "1         2   Rohan   rohan@example.com    Nature, Adventure    Male   \n",
       "2         3   Kavya   kavya@example.com     City, Historical  Female   \n",
       "3         4   Anika   anika@example.com  Beaches, Historical  Female   \n",
       "4         5   Tanvi   tanvi@example.com    Nature, Adventure  Female   \n",
       "..      ...     ...                 ...                  ...     ...   \n",
       "994     995   Karan   karan@example.com    Nature, Adventure    Male   \n",
       "995     996   Dhruv   dhruv@example.com     City, Historical    Male   \n",
       "996     997   Karan   karan@example.com  Beaches, Historical    Male   \n",
       "997     998  Aditya  aditya@example.com    Nature, Adventure    Male   \n",
       "998     999  Hitesh  hitesh@example.com     City, Historical    Male   \n",
       "\n",
       "     NumberOfAdults  NumberOfChildren  \n",
       "0                 1                 0  \n",
       "1                 2                 2  \n",
       "2                 2                 0  \n",
       "3                 1                 0  \n",
       "4                 2                 2  \n",
       "..              ...               ...  \n",
       "994               1                 0  \n",
       "995               1                 1  \n",
       "996               1                 2  \n",
       "997               1                 1  \n",
       "998               2                 2  \n",
       "\n",
       "[999 rows x 7 columns]"
      ]
     },
     "execution_count": 154,
     "metadata": {},
     "output_type": "execute_result"
    }
   ],
   "source": [
    "users"
   ]
  },
  {
   "cell_type": "markdown",
   "metadata": {},
   "source": [
    "----"
   ]
  },
  {
   "cell_type": "markdown",
   "metadata": {},
   "source": [
    "# Reviews"
   ]
  },
  {
   "cell_type": "code",
   "execution_count": 156,
   "metadata": {},
   "outputs": [],
   "source": [
    "reviews= Reviews.copy()"
   ]
  },
  {
   "cell_type": "code",
   "execution_count": 157,
   "metadata": {},
   "outputs": [
    {
     "data": {
      "text/html": [
       "<div>\n",
       "<style scoped>\n",
       "    .dataframe tbody tr th:only-of-type {\n",
       "        vertical-align: middle;\n",
       "    }\n",
       "\n",
       "    .dataframe tbody tr th {\n",
       "        vertical-align: top;\n",
       "    }\n",
       "\n",
       "    .dataframe thead th {\n",
       "        text-align: right;\n",
       "    }\n",
       "</style>\n",
       "<table border=\"1\" class=\"dataframe\">\n",
       "  <thead>\n",
       "    <tr style=\"text-align: right;\">\n",
       "      <th></th>\n",
       "      <th>ReviewID</th>\n",
       "      <th>DestinationID</th>\n",
       "      <th>UserID</th>\n",
       "      <th>Rating</th>\n",
       "      <th>ReviewText</th>\n",
       "    </tr>\n",
       "  </thead>\n",
       "  <tbody>\n",
       "    <tr>\n",
       "      <th>0</th>\n",
       "      <td>1</td>\n",
       "      <td>178</td>\n",
       "      <td>327</td>\n",
       "      <td>2</td>\n",
       "      <td>Incredible monument!</td>\n",
       "    </tr>\n",
       "    <tr>\n",
       "      <th>1</th>\n",
       "      <td>2</td>\n",
       "      <td>411</td>\n",
       "      <td>783</td>\n",
       "      <td>1</td>\n",
       "      <td>Loved the beaches!</td>\n",
       "    </tr>\n",
       "    <tr>\n",
       "      <th>2</th>\n",
       "      <td>3</td>\n",
       "      <td>927</td>\n",
       "      <td>12</td>\n",
       "      <td>2</td>\n",
       "      <td>A historical wonder</td>\n",
       "    </tr>\n",
       "    <tr>\n",
       "      <th>3</th>\n",
       "      <td>4</td>\n",
       "      <td>358</td>\n",
       "      <td>959</td>\n",
       "      <td>3</td>\n",
       "      <td>Incredible monument!</td>\n",
       "    </tr>\n",
       "    <tr>\n",
       "      <th>4</th>\n",
       "      <td>5</td>\n",
       "      <td>989</td>\n",
       "      <td>353</td>\n",
       "      <td>2</td>\n",
       "      <td>Loved the beaches!</td>\n",
       "    </tr>\n",
       "  </tbody>\n",
       "</table>\n",
       "</div>"
      ],
      "text/plain": [
       "   ReviewID  DestinationID  UserID  Rating            ReviewText\n",
       "0         1            178     327       2  Incredible monument!\n",
       "1         2            411     783       1    Loved the beaches!\n",
       "2         3            927      12       2   A historical wonder\n",
       "3         4            358     959       3  Incredible monument!\n",
       "4         5            989     353       2    Loved the beaches!"
      ]
     },
     "execution_count": 157,
     "metadata": {},
     "output_type": "execute_result"
    }
   ],
   "source": [
    "reviews.head()"
   ]
  },
  {
   "cell_type": "code",
   "execution_count": 158,
   "metadata": {},
   "outputs": [
    {
     "name": "stdout",
     "output_type": "stream",
     "text": [
      "<class 'pandas.core.frame.DataFrame'>\n",
      "RangeIndex: 999 entries, 0 to 998\n",
      "Data columns (total 5 columns):\n",
      " #   Column         Non-Null Count  Dtype \n",
      "---  ------         --------------  ----- \n",
      " 0   ReviewID       999 non-null    int64 \n",
      " 1   DestinationID  999 non-null    int64 \n",
      " 2   UserID         999 non-null    int64 \n",
      " 3   Rating         999 non-null    int64 \n",
      " 4   ReviewText     999 non-null    object\n",
      "dtypes: int64(4), object(1)\n",
      "memory usage: 39.1+ KB\n"
     ]
    }
   ],
   "source": [
    "reviews.info()"
   ]
  },
  {
   "cell_type": "code",
   "execution_count": 159,
   "metadata": {},
   "outputs": [
    {
     "data": {
      "text/html": [
       "<div>\n",
       "<style scoped>\n",
       "    .dataframe tbody tr th:only-of-type {\n",
       "        vertical-align: middle;\n",
       "    }\n",
       "\n",
       "    .dataframe tbody tr th {\n",
       "        vertical-align: top;\n",
       "    }\n",
       "\n",
       "    .dataframe thead th {\n",
       "        text-align: right;\n",
       "    }\n",
       "</style>\n",
       "<table border=\"1\" class=\"dataframe\">\n",
       "  <thead>\n",
       "    <tr style=\"text-align: right;\">\n",
       "      <th></th>\n",
       "      <th>ReviewID</th>\n",
       "      <th>DestinationID</th>\n",
       "      <th>UserID</th>\n",
       "      <th>Rating</th>\n",
       "    </tr>\n",
       "  </thead>\n",
       "  <tbody>\n",
       "    <tr>\n",
       "      <th>count</th>\n",
       "      <td>999.000000</td>\n",
       "      <td>999.000000</td>\n",
       "      <td>999.000000</td>\n",
       "      <td>999.000000</td>\n",
       "    </tr>\n",
       "    <tr>\n",
       "      <th>mean</th>\n",
       "      <td>500.000000</td>\n",
       "      <td>506.392392</td>\n",
       "      <td>498.610611</td>\n",
       "      <td>3.023023</td>\n",
       "    </tr>\n",
       "    <tr>\n",
       "      <th>std</th>\n",
       "      <td>288.530761</td>\n",
       "      <td>285.604889</td>\n",
       "      <td>286.963411</td>\n",
       "      <td>1.419331</td>\n",
       "    </tr>\n",
       "    <tr>\n",
       "      <th>min</th>\n",
       "      <td>1.000000</td>\n",
       "      <td>1.000000</td>\n",
       "      <td>2.000000</td>\n",
       "      <td>1.000000</td>\n",
       "    </tr>\n",
       "    <tr>\n",
       "      <th>25%</th>\n",
       "      <td>250.500000</td>\n",
       "      <td>273.000000</td>\n",
       "      <td>252.000000</td>\n",
       "      <td>2.000000</td>\n",
       "    </tr>\n",
       "    <tr>\n",
       "      <th>50%</th>\n",
       "      <td>500.000000</td>\n",
       "      <td>501.000000</td>\n",
       "      <td>494.000000</td>\n",
       "      <td>3.000000</td>\n",
       "    </tr>\n",
       "    <tr>\n",
       "      <th>75%</th>\n",
       "      <td>749.500000</td>\n",
       "      <td>752.000000</td>\n",
       "      <td>747.500000</td>\n",
       "      <td>4.000000</td>\n",
       "    </tr>\n",
       "    <tr>\n",
       "      <th>max</th>\n",
       "      <td>999.000000</td>\n",
       "      <td>1000.000000</td>\n",
       "      <td>999.000000</td>\n",
       "      <td>5.000000</td>\n",
       "    </tr>\n",
       "  </tbody>\n",
       "</table>\n",
       "</div>"
      ],
      "text/plain": [
       "         ReviewID  DestinationID      UserID      Rating\n",
       "count  999.000000     999.000000  999.000000  999.000000\n",
       "mean   500.000000     506.392392  498.610611    3.023023\n",
       "std    288.530761     285.604889  286.963411    1.419331\n",
       "min      1.000000       1.000000    2.000000    1.000000\n",
       "25%    250.500000     273.000000  252.000000    2.000000\n",
       "50%    500.000000     501.000000  494.000000    3.000000\n",
       "75%    749.500000     752.000000  747.500000    4.000000\n",
       "max    999.000000    1000.000000  999.000000    5.000000"
      ]
     },
     "execution_count": 159,
     "metadata": {},
     "output_type": "execute_result"
    }
   ],
   "source": [
    "reviews.describe()"
   ]
  },
  {
   "cell_type": "code",
   "execution_count": 160,
   "metadata": {},
   "outputs": [
    {
     "data": {
      "text/plain": [
       "0      178\n",
       "1      411\n",
       "2      927\n",
       "3      358\n",
       "4      989\n",
       "      ... \n",
       "994    231\n",
       "995    140\n",
       "996    823\n",
       "997    279\n",
       "998    705\n",
       "Name: DestinationID, Length: 999, dtype: int64"
      ]
     },
     "execution_count": 160,
     "metadata": {},
     "output_type": "execute_result"
    }
   ],
   "source": [
    "reviews['DestinationID']"
   ]
  },
  {
   "cell_type": "code",
   "execution_count": 162,
   "metadata": {},
   "outputs": [],
   "source": [
    "reviews['DestinationID']= reviews['DestinationID'].apply(lambda x : x % 5)"
   ]
  },
  {
   "cell_type": "code",
   "execution_count": 163,
   "metadata": {},
   "outputs": [
    {
     "data": {
      "text/html": [
       "<div>\n",
       "<style scoped>\n",
       "    .dataframe tbody tr th:only-of-type {\n",
       "        vertical-align: middle;\n",
       "    }\n",
       "\n",
       "    .dataframe tbody tr th {\n",
       "        vertical-align: top;\n",
       "    }\n",
       "\n",
       "    .dataframe thead th {\n",
       "        text-align: right;\n",
       "    }\n",
       "</style>\n",
       "<table border=\"1\" class=\"dataframe\">\n",
       "  <thead>\n",
       "    <tr style=\"text-align: right;\">\n",
       "      <th></th>\n",
       "      <th>ReviewID</th>\n",
       "      <th>DestinationID</th>\n",
       "      <th>UserID</th>\n",
       "      <th>Rating</th>\n",
       "      <th>ReviewText</th>\n",
       "    </tr>\n",
       "  </thead>\n",
       "  <tbody>\n",
       "    <tr>\n",
       "      <th>0</th>\n",
       "      <td>1</td>\n",
       "      <td>3</td>\n",
       "      <td>327</td>\n",
       "      <td>2</td>\n",
       "      <td>Incredible monument!</td>\n",
       "    </tr>\n",
       "    <tr>\n",
       "      <th>1</th>\n",
       "      <td>2</td>\n",
       "      <td>1</td>\n",
       "      <td>783</td>\n",
       "      <td>1</td>\n",
       "      <td>Loved the beaches!</td>\n",
       "    </tr>\n",
       "    <tr>\n",
       "      <th>2</th>\n",
       "      <td>3</td>\n",
       "      <td>2</td>\n",
       "      <td>12</td>\n",
       "      <td>2</td>\n",
       "      <td>A historical wonder</td>\n",
       "    </tr>\n",
       "    <tr>\n",
       "      <th>3</th>\n",
       "      <td>4</td>\n",
       "      <td>3</td>\n",
       "      <td>959</td>\n",
       "      <td>3</td>\n",
       "      <td>Incredible monument!</td>\n",
       "    </tr>\n",
       "    <tr>\n",
       "      <th>4</th>\n",
       "      <td>5</td>\n",
       "      <td>4</td>\n",
       "      <td>353</td>\n",
       "      <td>2</td>\n",
       "      <td>Loved the beaches!</td>\n",
       "    </tr>\n",
       "  </tbody>\n",
       "</table>\n",
       "</div>"
      ],
      "text/plain": [
       "   ReviewID  DestinationID  UserID  Rating            ReviewText\n",
       "0         1              3     327       2  Incredible monument!\n",
       "1         2              1     783       1    Loved the beaches!\n",
       "2         3              2      12       2   A historical wonder\n",
       "3         4              3     959       3  Incredible monument!\n",
       "4         5              4     353       2    Loved the beaches!"
      ]
     },
     "execution_count": 163,
     "metadata": {},
     "output_type": "execute_result"
    }
   ],
   "source": [
    "reviews.head()"
   ]
  },
  {
   "cell_type": "code",
   "execution_count": 168,
   "metadata": {},
   "outputs": [
    {
     "data": {
      "text/plain": [
       "624"
      ]
     },
     "execution_count": 168,
     "metadata": {},
     "output_type": "execute_result"
    }
   ],
   "source": [
    "len(reviews['UserID'].unique())"
   ]
  },
  {
   "cell_type": "code",
   "execution_count": 165,
   "metadata": {},
   "outputs": [
    {
     "data": {
      "text/plain": [
       "array(['Incredible monument!', 'Loved the beaches!',\n",
       "       'A historical wonder'], dtype=object)"
      ]
     },
     "execution_count": 165,
     "metadata": {},
     "output_type": "execute_result"
    }
   ],
   "source": [
    "reviews['ReviewText'].unique()"
   ]
  },
  {
   "cell_type": "code",
   "execution_count": 166,
   "metadata": {},
   "outputs": [
    {
     "data": {
      "text/html": [
       "<div>\n",
       "<style scoped>\n",
       "    .dataframe tbody tr th:only-of-type {\n",
       "        vertical-align: middle;\n",
       "    }\n",
       "\n",
       "    .dataframe tbody tr th {\n",
       "        vertical-align: top;\n",
       "    }\n",
       "\n",
       "    .dataframe thead th {\n",
       "        text-align: right;\n",
       "    }\n",
       "</style>\n",
       "<table border=\"1\" class=\"dataframe\">\n",
       "  <thead>\n",
       "    <tr style=\"text-align: right;\">\n",
       "      <th></th>\n",
       "      <th>ReviewID</th>\n",
       "      <th>DestinationID</th>\n",
       "      <th>UserID</th>\n",
       "      <th>Rating</th>\n",
       "      <th>ReviewText</th>\n",
       "    </tr>\n",
       "  </thead>\n",
       "  <tbody>\n",
       "    <tr>\n",
       "      <th>0</th>\n",
       "      <td>1</td>\n",
       "      <td>3</td>\n",
       "      <td>327</td>\n",
       "      <td>2</td>\n",
       "      <td>Incredible monument!</td>\n",
       "    </tr>\n",
       "    <tr>\n",
       "      <th>1</th>\n",
       "      <td>2</td>\n",
       "      <td>1</td>\n",
       "      <td>783</td>\n",
       "      <td>1</td>\n",
       "      <td>Loved the beaches!</td>\n",
       "    </tr>\n",
       "    <tr>\n",
       "      <th>2</th>\n",
       "      <td>3</td>\n",
       "      <td>2</td>\n",
       "      <td>12</td>\n",
       "      <td>2</td>\n",
       "      <td>A historical wonder</td>\n",
       "    </tr>\n",
       "    <tr>\n",
       "      <th>3</th>\n",
       "      <td>4</td>\n",
       "      <td>3</td>\n",
       "      <td>959</td>\n",
       "      <td>3</td>\n",
       "      <td>Incredible monument!</td>\n",
       "    </tr>\n",
       "    <tr>\n",
       "      <th>4</th>\n",
       "      <td>5</td>\n",
       "      <td>4</td>\n",
       "      <td>353</td>\n",
       "      <td>2</td>\n",
       "      <td>Loved the beaches!</td>\n",
       "    </tr>\n",
       "  </tbody>\n",
       "</table>\n",
       "</div>"
      ],
      "text/plain": [
       "   ReviewID  DestinationID  UserID  Rating            ReviewText\n",
       "0         1              3     327       2  Incredible monument!\n",
       "1         2              1     783       1    Loved the beaches!\n",
       "2         3              2      12       2   A historical wonder\n",
       "3         4              3     959       3  Incredible monument!\n",
       "4         5              4     353       2    Loved the beaches!"
      ]
     },
     "execution_count": 166,
     "metadata": {},
     "output_type": "execute_result"
    }
   ],
   "source": [
    "reviews.head()"
   ]
  },
  {
   "cell_type": "markdown",
   "metadata": {},
   "source": [
    "----"
   ]
  },
  {
   "cell_type": "markdown",
   "metadata": {},
   "source": [
    "# History"
   ]
  },
  {
   "cell_type": "code",
   "execution_count": 170,
   "metadata": {},
   "outputs": [],
   "source": [
    "history= History.copy()"
   ]
  },
  {
   "cell_type": "code",
   "execution_count": 172,
   "metadata": {},
   "outputs": [
    {
     "data": {
      "text/html": [
       "<div>\n",
       "<style scoped>\n",
       "    .dataframe tbody tr th:only-of-type {\n",
       "        vertical-align: middle;\n",
       "    }\n",
       "\n",
       "    .dataframe tbody tr th {\n",
       "        vertical-align: top;\n",
       "    }\n",
       "\n",
       "    .dataframe thead th {\n",
       "        text-align: right;\n",
       "    }\n",
       "</style>\n",
       "<table border=\"1\" class=\"dataframe\">\n",
       "  <thead>\n",
       "    <tr style=\"text-align: right;\">\n",
       "      <th></th>\n",
       "      <th>HistoryID</th>\n",
       "      <th>UserID</th>\n",
       "      <th>DestinationID</th>\n",
       "      <th>VisitDate</th>\n",
       "      <th>ExperienceRating</th>\n",
       "    </tr>\n",
       "  </thead>\n",
       "  <tbody>\n",
       "    <tr>\n",
       "      <th>0</th>\n",
       "      <td>1</td>\n",
       "      <td>525</td>\n",
       "      <td>760</td>\n",
       "      <td>2024-01-01</td>\n",
       "      <td>3</td>\n",
       "    </tr>\n",
       "    <tr>\n",
       "      <th>1</th>\n",
       "      <td>2</td>\n",
       "      <td>184</td>\n",
       "      <td>532</td>\n",
       "      <td>2024-02-15</td>\n",
       "      <td>5</td>\n",
       "    </tr>\n",
       "    <tr>\n",
       "      <th>2</th>\n",
       "      <td>3</td>\n",
       "      <td>897</td>\n",
       "      <td>786</td>\n",
       "      <td>2024-03-20</td>\n",
       "      <td>2</td>\n",
       "    </tr>\n",
       "    <tr>\n",
       "      <th>3</th>\n",
       "      <td>4</td>\n",
       "      <td>470</td>\n",
       "      <td>660</td>\n",
       "      <td>2024-01-01</td>\n",
       "      <td>1</td>\n",
       "    </tr>\n",
       "    <tr>\n",
       "      <th>4</th>\n",
       "      <td>5</td>\n",
       "      <td>989</td>\n",
       "      <td>389</td>\n",
       "      <td>2024-02-15</td>\n",
       "      <td>4</td>\n",
       "    </tr>\n",
       "  </tbody>\n",
       "</table>\n",
       "</div>"
      ],
      "text/plain": [
       "   HistoryID  UserID  DestinationID   VisitDate  ExperienceRating\n",
       "0          1     525            760  2024-01-01                 3\n",
       "1          2     184            532  2024-02-15                 5\n",
       "2          3     897            786  2024-03-20                 2\n",
       "3          4     470            660  2024-01-01                 1\n",
       "4          5     989            389  2024-02-15                 4"
      ]
     },
     "execution_count": 172,
     "metadata": {},
     "output_type": "execute_result"
    }
   ],
   "source": [
    "history.head()"
   ]
  },
  {
   "cell_type": "code",
   "execution_count": 173,
   "metadata": {},
   "outputs": [
    {
     "data": {
      "text/plain": [
       "(999, 5)"
      ]
     },
     "execution_count": 173,
     "metadata": {},
     "output_type": "execute_result"
    }
   ],
   "source": [
    "history.shape"
   ]
  },
  {
   "cell_type": "code",
   "execution_count": 174,
   "metadata": {},
   "outputs": [
    {
     "name": "stdout",
     "output_type": "stream",
     "text": [
      "<class 'pandas.core.frame.DataFrame'>\n",
      "RangeIndex: 999 entries, 0 to 998\n",
      "Data columns (total 5 columns):\n",
      " #   Column            Non-Null Count  Dtype \n",
      "---  ------            --------------  ----- \n",
      " 0   HistoryID         999 non-null    int64 \n",
      " 1   UserID            999 non-null    int64 \n",
      " 2   DestinationID     999 non-null    int64 \n",
      " 3   VisitDate         999 non-null    object\n",
      " 4   ExperienceRating  999 non-null    int64 \n",
      "dtypes: int64(4), object(1)\n",
      "memory usage: 39.1+ KB\n"
     ]
    }
   ],
   "source": [
    "history.info()"
   ]
  },
  {
   "cell_type": "code",
   "execution_count": 175,
   "metadata": {},
   "outputs": [
    {
     "data": {
      "text/html": [
       "<div>\n",
       "<style scoped>\n",
       "    .dataframe tbody tr th:only-of-type {\n",
       "        vertical-align: middle;\n",
       "    }\n",
       "\n",
       "    .dataframe tbody tr th {\n",
       "        vertical-align: top;\n",
       "    }\n",
       "\n",
       "    .dataframe thead th {\n",
       "        text-align: right;\n",
       "    }\n",
       "</style>\n",
       "<table border=\"1\" class=\"dataframe\">\n",
       "  <thead>\n",
       "    <tr style=\"text-align: right;\">\n",
       "      <th></th>\n",
       "      <th>HistoryID</th>\n",
       "      <th>UserID</th>\n",
       "      <th>DestinationID</th>\n",
       "      <th>ExperienceRating</th>\n",
       "    </tr>\n",
       "  </thead>\n",
       "  <tbody>\n",
       "    <tr>\n",
       "      <th>count</th>\n",
       "      <td>999.000000</td>\n",
       "      <td>999.000000</td>\n",
       "      <td>999.000000</td>\n",
       "      <td>999.000000</td>\n",
       "    </tr>\n",
       "    <tr>\n",
       "      <th>mean</th>\n",
       "      <td>500.000000</td>\n",
       "      <td>497.216216</td>\n",
       "      <td>493.551552</td>\n",
       "      <td>2.904905</td>\n",
       "    </tr>\n",
       "    <tr>\n",
       "      <th>std</th>\n",
       "      <td>288.530761</td>\n",
       "      <td>290.579414</td>\n",
       "      <td>296.684196</td>\n",
       "      <td>1.397810</td>\n",
       "    </tr>\n",
       "    <tr>\n",
       "      <th>min</th>\n",
       "      <td>1.000000</td>\n",
       "      <td>1.000000</td>\n",
       "      <td>2.000000</td>\n",
       "      <td>1.000000</td>\n",
       "    </tr>\n",
       "    <tr>\n",
       "      <th>25%</th>\n",
       "      <td>250.500000</td>\n",
       "      <td>258.500000</td>\n",
       "      <td>236.000000</td>\n",
       "      <td>2.000000</td>\n",
       "    </tr>\n",
       "    <tr>\n",
       "      <th>50%</th>\n",
       "      <td>500.000000</td>\n",
       "      <td>497.000000</td>\n",
       "      <td>472.000000</td>\n",
       "      <td>3.000000</td>\n",
       "    </tr>\n",
       "    <tr>\n",
       "      <th>75%</th>\n",
       "      <td>749.500000</td>\n",
       "      <td>752.000000</td>\n",
       "      <td>760.500000</td>\n",
       "      <td>4.000000</td>\n",
       "    </tr>\n",
       "    <tr>\n",
       "      <th>max</th>\n",
       "      <td>999.000000</td>\n",
       "      <td>999.000000</td>\n",
       "      <td>1000.000000</td>\n",
       "      <td>5.000000</td>\n",
       "    </tr>\n",
       "  </tbody>\n",
       "</table>\n",
       "</div>"
      ],
      "text/plain": [
       "        HistoryID      UserID  DestinationID  ExperienceRating\n",
       "count  999.000000  999.000000     999.000000        999.000000\n",
       "mean   500.000000  497.216216     493.551552          2.904905\n",
       "std    288.530761  290.579414     296.684196          1.397810\n",
       "min      1.000000    1.000000       2.000000          1.000000\n",
       "25%    250.500000  258.500000     236.000000          2.000000\n",
       "50%    500.000000  497.000000     472.000000          3.000000\n",
       "75%    749.500000  752.000000     760.500000          4.000000\n",
       "max    999.000000  999.000000    1000.000000          5.000000"
      ]
     },
     "execution_count": 175,
     "metadata": {},
     "output_type": "execute_result"
    }
   ],
   "source": [
    "history.describe()"
   ]
  },
  {
   "cell_type": "code",
   "execution_count": 176,
   "metadata": {},
   "outputs": [
    {
     "data": {
      "text/plain": [
       "Index(['HistoryID', 'UserID', 'DestinationID', 'VisitDate',\n",
       "       'ExperienceRating'],\n",
       "      dtype='object')"
      ]
     },
     "execution_count": 176,
     "metadata": {},
     "output_type": "execute_result"
    }
   ],
   "source": [
    "history.columns"
   ]
  },
  {
   "cell_type": "code",
   "execution_count": 179,
   "metadata": {},
   "outputs": [],
   "source": [
    "history['DestinationID']= history['DestinationID'].apply(lambda x : x % 5)"
   ]
  },
  {
   "cell_type": "code",
   "execution_count": 183,
   "metadata": {},
   "outputs": [],
   "source": [
    "history['VisitDate']= pd.to_datetime(history['VisitDate'])"
   ]
  },
  {
   "cell_type": "code",
   "execution_count": 184,
   "metadata": {},
   "outputs": [
    {
     "name": "stdout",
     "output_type": "stream",
     "text": [
      "<class 'pandas.core.frame.DataFrame'>\n",
      "RangeIndex: 999 entries, 0 to 998\n",
      "Data columns (total 5 columns):\n",
      " #   Column            Non-Null Count  Dtype         \n",
      "---  ------            --------------  -----         \n",
      " 0   HistoryID         999 non-null    int64         \n",
      " 1   UserID            999 non-null    int64         \n",
      " 2   DestinationID     999 non-null    int64         \n",
      " 3   VisitDate         999 non-null    datetime64[ns]\n",
      " 4   ExperienceRating  999 non-null    int64         \n",
      "dtypes: datetime64[ns](1), int64(4)\n",
      "memory usage: 39.1 KB\n"
     ]
    }
   ],
   "source": [
    "history.info()"
   ]
  },
  {
   "cell_type": "code",
   "execution_count": 190,
   "metadata": {},
   "outputs": [
    {
     "data": {
      "text/plain": [
       "array([2024])"
      ]
     },
     "execution_count": 190,
     "metadata": {},
     "output_type": "execute_result"
    }
   ],
   "source": [
    "history['VisitDate'].dt.year.unique()"
   ]
  },
  {
   "cell_type": "code",
   "execution_count": 191,
   "metadata": {},
   "outputs": [
    {
     "data": {
      "text/plain": [
       "array([1, 2, 3])"
      ]
     },
     "execution_count": 191,
     "metadata": {},
     "output_type": "execute_result"
    }
   ],
   "source": [
    "history['VisitDate'].dt.month.unique()"
   ]
  },
  {
   "cell_type": "code",
   "execution_count": 192,
   "metadata": {},
   "outputs": [
    {
     "data": {
      "text/plain": [
       "array([ 1, 15, 20])"
      ]
     },
     "execution_count": 192,
     "metadata": {},
     "output_type": "execute_result"
    }
   ],
   "source": [
    "history['VisitDate'].dt.day.unique()"
   ]
  },
  {
   "cell_type": "code",
   "execution_count": 193,
   "metadata": {},
   "outputs": [
    {
     "data": {
      "text/html": [
       "<div>\n",
       "<style scoped>\n",
       "    .dataframe tbody tr th:only-of-type {\n",
       "        vertical-align: middle;\n",
       "    }\n",
       "\n",
       "    .dataframe tbody tr th {\n",
       "        vertical-align: top;\n",
       "    }\n",
       "\n",
       "    .dataframe thead th {\n",
       "        text-align: right;\n",
       "    }\n",
       "</style>\n",
       "<table border=\"1\" class=\"dataframe\">\n",
       "  <thead>\n",
       "    <tr style=\"text-align: right;\">\n",
       "      <th></th>\n",
       "      <th>HistoryID</th>\n",
       "      <th>UserID</th>\n",
       "      <th>DestinationID</th>\n",
       "      <th>VisitDate</th>\n",
       "      <th>ExperienceRating</th>\n",
       "    </tr>\n",
       "  </thead>\n",
       "  <tbody>\n",
       "    <tr>\n",
       "      <th>0</th>\n",
       "      <td>1</td>\n",
       "      <td>525</td>\n",
       "      <td>0</td>\n",
       "      <td>2024-01-01</td>\n",
       "      <td>3</td>\n",
       "    </tr>\n",
       "    <tr>\n",
       "      <th>1</th>\n",
       "      <td>2</td>\n",
       "      <td>184</td>\n",
       "      <td>2</td>\n",
       "      <td>2024-02-15</td>\n",
       "      <td>5</td>\n",
       "    </tr>\n",
       "    <tr>\n",
       "      <th>2</th>\n",
       "      <td>3</td>\n",
       "      <td>897</td>\n",
       "      <td>1</td>\n",
       "      <td>2024-03-20</td>\n",
       "      <td>2</td>\n",
       "    </tr>\n",
       "    <tr>\n",
       "      <th>3</th>\n",
       "      <td>4</td>\n",
       "      <td>470</td>\n",
       "      <td>0</td>\n",
       "      <td>2024-01-01</td>\n",
       "      <td>1</td>\n",
       "    </tr>\n",
       "    <tr>\n",
       "      <th>4</th>\n",
       "      <td>5</td>\n",
       "      <td>989</td>\n",
       "      <td>4</td>\n",
       "      <td>2024-02-15</td>\n",
       "      <td>4</td>\n",
       "    </tr>\n",
       "  </tbody>\n",
       "</table>\n",
       "</div>"
      ],
      "text/plain": [
       "   HistoryID  UserID  DestinationID  VisitDate  ExperienceRating\n",
       "0          1     525              0 2024-01-01                 3\n",
       "1          2     184              2 2024-02-15                 5\n",
       "2          3     897              1 2024-03-20                 2\n",
       "3          4     470              0 2024-01-01                 1\n",
       "4          5     989              4 2024-02-15                 4"
      ]
     },
     "execution_count": 193,
     "metadata": {},
     "output_type": "execute_result"
    }
   ],
   "source": [
    "history.head()"
   ]
  },
  {
   "cell_type": "markdown",
   "metadata": {},
   "source": [
    "----"
   ]
  },
  {
   "cell_type": "markdown",
   "metadata": {},
   "source": [
    "# Final datasets"
   ]
  },
  {
   "cell_type": "code",
   "execution_count": 194,
   "metadata": {},
   "outputs": [
    {
     "data": {
      "text/html": [
       "<div>\n",
       "<style scoped>\n",
       "    .dataframe tbody tr th:only-of-type {\n",
       "        vertical-align: middle;\n",
       "    }\n",
       "\n",
       "    .dataframe tbody tr th {\n",
       "        vertical-align: top;\n",
       "    }\n",
       "\n",
       "    .dataframe thead th {\n",
       "        text-align: right;\n",
       "    }\n",
       "</style>\n",
       "<table border=\"1\" class=\"dataframe\">\n",
       "  <thead>\n",
       "    <tr style=\"text-align: right;\">\n",
       "      <th></th>\n",
       "      <th>DestinationID</th>\n",
       "      <th>Name-State</th>\n",
       "      <th>Type</th>\n",
       "      <th>Popularity</th>\n",
       "      <th>BestTimeToVisit</th>\n",
       "    </tr>\n",
       "  </thead>\n",
       "  <tbody>\n",
       "    <tr>\n",
       "      <th>0</th>\n",
       "      <td>1</td>\n",
       "      <td>Taj Mahal-Uttar Pradesh</td>\n",
       "      <td>Historical</td>\n",
       "      <td>8.549476</td>\n",
       "      <td>Nov-Feb</td>\n",
       "    </tr>\n",
       "    <tr>\n",
       "      <th>1</th>\n",
       "      <td>2</td>\n",
       "      <td>Goa Beaches-Goa</td>\n",
       "      <td>Beach</td>\n",
       "      <td>8.495206</td>\n",
       "      <td>Nov-Mar</td>\n",
       "    </tr>\n",
       "    <tr>\n",
       "      <th>2</th>\n",
       "      <td>3</td>\n",
       "      <td>Jaipur City-Rajasthan</td>\n",
       "      <td>City</td>\n",
       "      <td>8.530317</td>\n",
       "      <td>Oct-Mar</td>\n",
       "    </tr>\n",
       "    <tr>\n",
       "      <th>3</th>\n",
       "      <td>4</td>\n",
       "      <td>Kerala Backwaters-Kerala</td>\n",
       "      <td>Nature</td>\n",
       "      <td>8.490535</td>\n",
       "      <td>Sep-Mar</td>\n",
       "    </tr>\n",
       "    <tr>\n",
       "      <th>4</th>\n",
       "      <td>5</td>\n",
       "      <td>Leh Ladakh-Jammu and Kashmir</td>\n",
       "      <td>Adventure</td>\n",
       "      <td>8.504099</td>\n",
       "      <td>Apr-Jun</td>\n",
       "    </tr>\n",
       "  </tbody>\n",
       "</table>\n",
       "</div>"
      ],
      "text/plain": [
       "   DestinationID                    Name-State        Type  Popularity  \\\n",
       "0              1       Taj Mahal-Uttar Pradesh  Historical    8.549476   \n",
       "1              2               Goa Beaches-Goa       Beach    8.495206   \n",
       "2              3         Jaipur City-Rajasthan        City    8.530317   \n",
       "3              4      Kerala Backwaters-Kerala      Nature    8.490535   \n",
       "4              5  Leh Ladakh-Jammu and Kashmir   Adventure    8.504099   \n",
       "\n",
       "  BestTimeToVisit  \n",
       "0         Nov-Feb  \n",
       "1         Nov-Mar  \n",
       "2         Oct-Mar  \n",
       "3         Sep-Mar  \n",
       "4         Apr-Jun  "
      ]
     },
     "execution_count": 194,
     "metadata": {},
     "output_type": "execute_result"
    }
   ],
   "source": [
    "destinations"
   ]
  },
  {
   "cell_type": "code",
   "execution_count": 199,
   "metadata": {},
   "outputs": [],
   "source": [
    "destinations.to_csv('Final Datasets/Destinations.csv', index= False)"
   ]
  },
  {
   "cell_type": "code",
   "execution_count": 195,
   "metadata": {},
   "outputs": [
    {
     "data": {
      "text/html": [
       "<div>\n",
       "<style scoped>\n",
       "    .dataframe tbody tr th:only-of-type {\n",
       "        vertical-align: middle;\n",
       "    }\n",
       "\n",
       "    .dataframe tbody tr th {\n",
       "        vertical-align: top;\n",
       "    }\n",
       "\n",
       "    .dataframe thead th {\n",
       "        text-align: right;\n",
       "    }\n",
       "</style>\n",
       "<table border=\"1\" class=\"dataframe\">\n",
       "  <thead>\n",
       "    <tr style=\"text-align: right;\">\n",
       "      <th></th>\n",
       "      <th>UserID</th>\n",
       "      <th>Name</th>\n",
       "      <th>Email</th>\n",
       "      <th>Preferences</th>\n",
       "      <th>Gender</th>\n",
       "      <th>NumberOfAdults</th>\n",
       "      <th>NumberOfChildren</th>\n",
       "    </tr>\n",
       "  </thead>\n",
       "  <tbody>\n",
       "    <tr>\n",
       "      <th>0</th>\n",
       "      <td>1</td>\n",
       "      <td>Kavya</td>\n",
       "      <td>kavya@example.com</td>\n",
       "      <td>Beaches, Historical</td>\n",
       "      <td>Female</td>\n",
       "      <td>1</td>\n",
       "      <td>0</td>\n",
       "    </tr>\n",
       "    <tr>\n",
       "      <th>1</th>\n",
       "      <td>2</td>\n",
       "      <td>Rohan</td>\n",
       "      <td>rohan@example.com</td>\n",
       "      <td>Nature, Adventure</td>\n",
       "      <td>Male</td>\n",
       "      <td>2</td>\n",
       "      <td>2</td>\n",
       "    </tr>\n",
       "    <tr>\n",
       "      <th>2</th>\n",
       "      <td>3</td>\n",
       "      <td>Kavya</td>\n",
       "      <td>kavya@example.com</td>\n",
       "      <td>City, Historical</td>\n",
       "      <td>Female</td>\n",
       "      <td>2</td>\n",
       "      <td>0</td>\n",
       "    </tr>\n",
       "    <tr>\n",
       "      <th>3</th>\n",
       "      <td>4</td>\n",
       "      <td>Anika</td>\n",
       "      <td>anika@example.com</td>\n",
       "      <td>Beaches, Historical</td>\n",
       "      <td>Female</td>\n",
       "      <td>1</td>\n",
       "      <td>0</td>\n",
       "    </tr>\n",
       "    <tr>\n",
       "      <th>4</th>\n",
       "      <td>5</td>\n",
       "      <td>Tanvi</td>\n",
       "      <td>tanvi@example.com</td>\n",
       "      <td>Nature, Adventure</td>\n",
       "      <td>Female</td>\n",
       "      <td>2</td>\n",
       "      <td>2</td>\n",
       "    </tr>\n",
       "    <tr>\n",
       "      <th>...</th>\n",
       "      <td>...</td>\n",
       "      <td>...</td>\n",
       "      <td>...</td>\n",
       "      <td>...</td>\n",
       "      <td>...</td>\n",
       "      <td>...</td>\n",
       "      <td>...</td>\n",
       "    </tr>\n",
       "    <tr>\n",
       "      <th>994</th>\n",
       "      <td>995</td>\n",
       "      <td>Karan</td>\n",
       "      <td>karan@example.com</td>\n",
       "      <td>Nature, Adventure</td>\n",
       "      <td>Male</td>\n",
       "      <td>1</td>\n",
       "      <td>0</td>\n",
       "    </tr>\n",
       "    <tr>\n",
       "      <th>995</th>\n",
       "      <td>996</td>\n",
       "      <td>Dhruv</td>\n",
       "      <td>dhruv@example.com</td>\n",
       "      <td>City, Historical</td>\n",
       "      <td>Male</td>\n",
       "      <td>1</td>\n",
       "      <td>1</td>\n",
       "    </tr>\n",
       "    <tr>\n",
       "      <th>996</th>\n",
       "      <td>997</td>\n",
       "      <td>Karan</td>\n",
       "      <td>karan@example.com</td>\n",
       "      <td>Beaches, Historical</td>\n",
       "      <td>Male</td>\n",
       "      <td>1</td>\n",
       "      <td>2</td>\n",
       "    </tr>\n",
       "    <tr>\n",
       "      <th>997</th>\n",
       "      <td>998</td>\n",
       "      <td>Aditya</td>\n",
       "      <td>aditya@example.com</td>\n",
       "      <td>Nature, Adventure</td>\n",
       "      <td>Male</td>\n",
       "      <td>1</td>\n",
       "      <td>1</td>\n",
       "    </tr>\n",
       "    <tr>\n",
       "      <th>998</th>\n",
       "      <td>999</td>\n",
       "      <td>Hitesh</td>\n",
       "      <td>hitesh@example.com</td>\n",
       "      <td>City, Historical</td>\n",
       "      <td>Male</td>\n",
       "      <td>2</td>\n",
       "      <td>2</td>\n",
       "    </tr>\n",
       "  </tbody>\n",
       "</table>\n",
       "<p>999 rows × 7 columns</p>\n",
       "</div>"
      ],
      "text/plain": [
       "     UserID    Name               Email          Preferences  Gender  \\\n",
       "0         1   Kavya   kavya@example.com  Beaches, Historical  Female   \n",
       "1         2   Rohan   rohan@example.com    Nature, Adventure    Male   \n",
       "2         3   Kavya   kavya@example.com     City, Historical  Female   \n",
       "3         4   Anika   anika@example.com  Beaches, Historical  Female   \n",
       "4         5   Tanvi   tanvi@example.com    Nature, Adventure  Female   \n",
       "..      ...     ...                 ...                  ...     ...   \n",
       "994     995   Karan   karan@example.com    Nature, Adventure    Male   \n",
       "995     996   Dhruv   dhruv@example.com     City, Historical    Male   \n",
       "996     997   Karan   karan@example.com  Beaches, Historical    Male   \n",
       "997     998  Aditya  aditya@example.com    Nature, Adventure    Male   \n",
       "998     999  Hitesh  hitesh@example.com     City, Historical    Male   \n",
       "\n",
       "     NumberOfAdults  NumberOfChildren  \n",
       "0                 1                 0  \n",
       "1                 2                 2  \n",
       "2                 2                 0  \n",
       "3                 1                 0  \n",
       "4                 2                 2  \n",
       "..              ...               ...  \n",
       "994               1                 0  \n",
       "995               1                 1  \n",
       "996               1                 2  \n",
       "997               1                 1  \n",
       "998               2                 2  \n",
       "\n",
       "[999 rows x 7 columns]"
      ]
     },
     "execution_count": 195,
     "metadata": {},
     "output_type": "execute_result"
    }
   ],
   "source": [
    "users"
   ]
  },
  {
   "cell_type": "code",
   "execution_count": 200,
   "metadata": {},
   "outputs": [],
   "source": [
    "users.to_csv('Final Datasets/Users.csv', index= False)"
   ]
  },
  {
   "cell_type": "code",
   "execution_count": 196,
   "metadata": {},
   "outputs": [
    {
     "data": {
      "text/html": [
       "<div>\n",
       "<style scoped>\n",
       "    .dataframe tbody tr th:only-of-type {\n",
       "        vertical-align: middle;\n",
       "    }\n",
       "\n",
       "    .dataframe tbody tr th {\n",
       "        vertical-align: top;\n",
       "    }\n",
       "\n",
       "    .dataframe thead th {\n",
       "        text-align: right;\n",
       "    }\n",
       "</style>\n",
       "<table border=\"1\" class=\"dataframe\">\n",
       "  <thead>\n",
       "    <tr style=\"text-align: right;\">\n",
       "      <th></th>\n",
       "      <th>ReviewID</th>\n",
       "      <th>DestinationID</th>\n",
       "      <th>UserID</th>\n",
       "      <th>Rating</th>\n",
       "      <th>ReviewText</th>\n",
       "    </tr>\n",
       "  </thead>\n",
       "  <tbody>\n",
       "    <tr>\n",
       "      <th>0</th>\n",
       "      <td>1</td>\n",
       "      <td>3</td>\n",
       "      <td>327</td>\n",
       "      <td>2</td>\n",
       "      <td>Incredible monument!</td>\n",
       "    </tr>\n",
       "    <tr>\n",
       "      <th>1</th>\n",
       "      <td>2</td>\n",
       "      <td>1</td>\n",
       "      <td>783</td>\n",
       "      <td>1</td>\n",
       "      <td>Loved the beaches!</td>\n",
       "    </tr>\n",
       "    <tr>\n",
       "      <th>2</th>\n",
       "      <td>3</td>\n",
       "      <td>2</td>\n",
       "      <td>12</td>\n",
       "      <td>2</td>\n",
       "      <td>A historical wonder</td>\n",
       "    </tr>\n",
       "    <tr>\n",
       "      <th>3</th>\n",
       "      <td>4</td>\n",
       "      <td>3</td>\n",
       "      <td>959</td>\n",
       "      <td>3</td>\n",
       "      <td>Incredible monument!</td>\n",
       "    </tr>\n",
       "    <tr>\n",
       "      <th>4</th>\n",
       "      <td>5</td>\n",
       "      <td>4</td>\n",
       "      <td>353</td>\n",
       "      <td>2</td>\n",
       "      <td>Loved the beaches!</td>\n",
       "    </tr>\n",
       "    <tr>\n",
       "      <th>...</th>\n",
       "      <td>...</td>\n",
       "      <td>...</td>\n",
       "      <td>...</td>\n",
       "      <td>...</td>\n",
       "      <td>...</td>\n",
       "    </tr>\n",
       "    <tr>\n",
       "      <th>994</th>\n",
       "      <td>995</td>\n",
       "      <td>1</td>\n",
       "      <td>346</td>\n",
       "      <td>5</td>\n",
       "      <td>Loved the beaches!</td>\n",
       "    </tr>\n",
       "    <tr>\n",
       "      <th>995</th>\n",
       "      <td>996</td>\n",
       "      <td>0</td>\n",
       "      <td>140</td>\n",
       "      <td>3</td>\n",
       "      <td>A historical wonder</td>\n",
       "    </tr>\n",
       "    <tr>\n",
       "      <th>996</th>\n",
       "      <td>997</td>\n",
       "      <td>3</td>\n",
       "      <td>858</td>\n",
       "      <td>5</td>\n",
       "      <td>Incredible monument!</td>\n",
       "    </tr>\n",
       "    <tr>\n",
       "      <th>997</th>\n",
       "      <td>998</td>\n",
       "      <td>4</td>\n",
       "      <td>839</td>\n",
       "      <td>2</td>\n",
       "      <td>Loved the beaches!</td>\n",
       "    </tr>\n",
       "    <tr>\n",
       "      <th>998</th>\n",
       "      <td>999</td>\n",
       "      <td>0</td>\n",
       "      <td>253</td>\n",
       "      <td>4</td>\n",
       "      <td>A historical wonder</td>\n",
       "    </tr>\n",
       "  </tbody>\n",
       "</table>\n",
       "<p>999 rows × 5 columns</p>\n",
       "</div>"
      ],
      "text/plain": [
       "     ReviewID  DestinationID  UserID  Rating            ReviewText\n",
       "0           1              3     327       2  Incredible monument!\n",
       "1           2              1     783       1    Loved the beaches!\n",
       "2           3              2      12       2   A historical wonder\n",
       "3           4              3     959       3  Incredible monument!\n",
       "4           5              4     353       2    Loved the beaches!\n",
       "..        ...            ...     ...     ...                   ...\n",
       "994       995              1     346       5    Loved the beaches!\n",
       "995       996              0     140       3   A historical wonder\n",
       "996       997              3     858       5  Incredible monument!\n",
       "997       998              4     839       2    Loved the beaches!\n",
       "998       999              0     253       4   A historical wonder\n",
       "\n",
       "[999 rows x 5 columns]"
      ]
     },
     "execution_count": 196,
     "metadata": {},
     "output_type": "execute_result"
    }
   ],
   "source": [
    "reviews"
   ]
  },
  {
   "cell_type": "code",
   "execution_count": 201,
   "metadata": {},
   "outputs": [],
   "source": [
    "reviews.to_csv('Final Datasets/Reviews.csv', index= False)"
   ]
  },
  {
   "cell_type": "code",
   "execution_count": 197,
   "metadata": {},
   "outputs": [
    {
     "data": {
      "text/html": [
       "<div>\n",
       "<style scoped>\n",
       "    .dataframe tbody tr th:only-of-type {\n",
       "        vertical-align: middle;\n",
       "    }\n",
       "\n",
       "    .dataframe tbody tr th {\n",
       "        vertical-align: top;\n",
       "    }\n",
       "\n",
       "    .dataframe thead th {\n",
       "        text-align: right;\n",
       "    }\n",
       "</style>\n",
       "<table border=\"1\" class=\"dataframe\">\n",
       "  <thead>\n",
       "    <tr style=\"text-align: right;\">\n",
       "      <th></th>\n",
       "      <th>HistoryID</th>\n",
       "      <th>UserID</th>\n",
       "      <th>DestinationID</th>\n",
       "      <th>VisitDate</th>\n",
       "      <th>ExperienceRating</th>\n",
       "    </tr>\n",
       "  </thead>\n",
       "  <tbody>\n",
       "    <tr>\n",
       "      <th>0</th>\n",
       "      <td>1</td>\n",
       "      <td>525</td>\n",
       "      <td>0</td>\n",
       "      <td>2024-01-01</td>\n",
       "      <td>3</td>\n",
       "    </tr>\n",
       "    <tr>\n",
       "      <th>1</th>\n",
       "      <td>2</td>\n",
       "      <td>184</td>\n",
       "      <td>2</td>\n",
       "      <td>2024-02-15</td>\n",
       "      <td>5</td>\n",
       "    </tr>\n",
       "    <tr>\n",
       "      <th>2</th>\n",
       "      <td>3</td>\n",
       "      <td>897</td>\n",
       "      <td>1</td>\n",
       "      <td>2024-03-20</td>\n",
       "      <td>2</td>\n",
       "    </tr>\n",
       "    <tr>\n",
       "      <th>3</th>\n",
       "      <td>4</td>\n",
       "      <td>470</td>\n",
       "      <td>0</td>\n",
       "      <td>2024-01-01</td>\n",
       "      <td>1</td>\n",
       "    </tr>\n",
       "    <tr>\n",
       "      <th>4</th>\n",
       "      <td>5</td>\n",
       "      <td>989</td>\n",
       "      <td>4</td>\n",
       "      <td>2024-02-15</td>\n",
       "      <td>4</td>\n",
       "    </tr>\n",
       "    <tr>\n",
       "      <th>...</th>\n",
       "      <td>...</td>\n",
       "      <td>...</td>\n",
       "      <td>...</td>\n",
       "      <td>...</td>\n",
       "      <td>...</td>\n",
       "    </tr>\n",
       "    <tr>\n",
       "      <th>994</th>\n",
       "      <td>995</td>\n",
       "      <td>129</td>\n",
       "      <td>0</td>\n",
       "      <td>2024-02-15</td>\n",
       "      <td>3</td>\n",
       "    </tr>\n",
       "    <tr>\n",
       "      <th>995</th>\n",
       "      <td>996</td>\n",
       "      <td>634</td>\n",
       "      <td>4</td>\n",
       "      <td>2024-03-20</td>\n",
       "      <td>3</td>\n",
       "    </tr>\n",
       "    <tr>\n",
       "      <th>996</th>\n",
       "      <td>997</td>\n",
       "      <td>831</td>\n",
       "      <td>3</td>\n",
       "      <td>2024-01-01</td>\n",
       "      <td>1</td>\n",
       "    </tr>\n",
       "    <tr>\n",
       "      <th>997</th>\n",
       "      <td>998</td>\n",
       "      <td>959</td>\n",
       "      <td>0</td>\n",
       "      <td>2024-02-15</td>\n",
       "      <td>4</td>\n",
       "    </tr>\n",
       "    <tr>\n",
       "      <th>998</th>\n",
       "      <td>999</td>\n",
       "      <td>538</td>\n",
       "      <td>0</td>\n",
       "      <td>2024-03-20</td>\n",
       "      <td>5</td>\n",
       "    </tr>\n",
       "  </tbody>\n",
       "</table>\n",
       "<p>999 rows × 5 columns</p>\n",
       "</div>"
      ],
      "text/plain": [
       "     HistoryID  UserID  DestinationID  VisitDate  ExperienceRating\n",
       "0            1     525              0 2024-01-01                 3\n",
       "1            2     184              2 2024-02-15                 5\n",
       "2            3     897              1 2024-03-20                 2\n",
       "3            4     470              0 2024-01-01                 1\n",
       "4            5     989              4 2024-02-15                 4\n",
       "..         ...     ...            ...        ...               ...\n",
       "994        995     129              0 2024-02-15                 3\n",
       "995        996     634              4 2024-03-20                 3\n",
       "996        997     831              3 2024-01-01                 1\n",
       "997        998     959              0 2024-02-15                 4\n",
       "998        999     538              0 2024-03-20                 5\n",
       "\n",
       "[999 rows x 5 columns]"
      ]
     },
     "execution_count": 197,
     "metadata": {},
     "output_type": "execute_result"
    }
   ],
   "source": [
    "history"
   ]
  },
  {
   "cell_type": "code",
   "execution_count": 202,
   "metadata": {},
   "outputs": [],
   "source": [
    "history.to_csv('Final Datasets/History.csv', index= False)"
   ]
  }
 ],
 "metadata": {
  "kernelspec": {
   "display_name": "Qvenv",
   "language": "python",
   "name": "qvenv"
  },
  "language_info": {
   "codemirror_mode": {
    "name": "ipython",
    "version": 3
   },
   "file_extension": ".py",
   "mimetype": "text/x-python",
   "name": "python",
   "nbconvert_exporter": "python",
   "pygments_lexer": "ipython3",
   "version": "3.10.0"
  }
 },
 "nbformat": 4,
 "nbformat_minor": 2
}

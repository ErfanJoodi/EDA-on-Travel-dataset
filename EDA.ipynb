{
 "cells": [
  {
   "cell_type": "markdown",
   "metadata": {},
   "source": [
    "# Hi :)"
   ]
  },
  {
   "cell_type": "markdown",
   "metadata": {},
   "source": [
    "----"
   ]
  },
  {
   "cell_type": "markdown",
   "metadata": {},
   "source": [
    "# Import libraries"
   ]
  },
  {
   "cell_type": "code",
   "execution_count": 32,
   "metadata": {},
   "outputs": [],
   "source": [
    "import pandas as pd\n",
    "import matplotlib.pyplot as plt\n",
    "import seaborn as sn"
   ]
  },
  {
   "cell_type": "markdown",
   "metadata": {},
   "source": [
    "# Datasets"
   ]
  },
  {
   "cell_type": "markdown",
   "metadata": {},
   "source": [
    "Destinations"
   ]
  },
  {
   "cell_type": "code",
   "execution_count": 10,
   "metadata": {},
   "outputs": [
    {
     "data": {
      "text/html": [
       "<div>\n",
       "<style scoped>\n",
       "    .dataframe tbody tr th:only-of-type {\n",
       "        vertical-align: middle;\n",
       "    }\n",
       "\n",
       "    .dataframe tbody tr th {\n",
       "        vertical-align: top;\n",
       "    }\n",
       "\n",
       "    .dataframe thead th {\n",
       "        text-align: right;\n",
       "    }\n",
       "</style>\n",
       "<table border=\"1\" class=\"dataframe\">\n",
       "  <thead>\n",
       "    <tr style=\"text-align: right;\">\n",
       "      <th></th>\n",
       "      <th>DestinationID</th>\n",
       "      <th>Name</th>\n",
       "      <th>State</th>\n",
       "      <th>Type</th>\n",
       "      <th>Popularity</th>\n",
       "      <th>BestTimeToVisit</th>\n",
       "    </tr>\n",
       "  </thead>\n",
       "  <tbody>\n",
       "    <tr>\n",
       "      <th>0</th>\n",
       "      <td>1</td>\n",
       "      <td>Taj Mahal</td>\n",
       "      <td>Uttar Pradesh</td>\n",
       "      <td>Historical</td>\n",
       "      <td>8.691906</td>\n",
       "      <td>Nov-Feb</td>\n",
       "    </tr>\n",
       "    <tr>\n",
       "      <th>1</th>\n",
       "      <td>2</td>\n",
       "      <td>Goa Beaches</td>\n",
       "      <td>Goa</td>\n",
       "      <td>Beach</td>\n",
       "      <td>8.605032</td>\n",
       "      <td>Nov-Mar</td>\n",
       "    </tr>\n",
       "    <tr>\n",
       "      <th>2</th>\n",
       "      <td>3</td>\n",
       "      <td>Jaipur City</td>\n",
       "      <td>Rajasthan</td>\n",
       "      <td>City</td>\n",
       "      <td>9.225372</td>\n",
       "      <td>Oct-Mar</td>\n",
       "    </tr>\n",
       "    <tr>\n",
       "      <th>3</th>\n",
       "      <td>4</td>\n",
       "      <td>Kerala Backwaters</td>\n",
       "      <td>Kerala</td>\n",
       "      <td>Nature</td>\n",
       "      <td>7.977386</td>\n",
       "      <td>Sep-Mar</td>\n",
       "    </tr>\n",
       "    <tr>\n",
       "      <th>4</th>\n",
       "      <td>5</td>\n",
       "      <td>Leh Ladakh</td>\n",
       "      <td>Jammu and Kashmir</td>\n",
       "      <td>Adventure</td>\n",
       "      <td>8.399822</td>\n",
       "      <td>Apr-Jun</td>\n",
       "    </tr>\n",
       "  </tbody>\n",
       "</table>\n",
       "</div>"
      ],
      "text/plain": [
       "   DestinationID               Name              State        Type  \\\n",
       "0              1          Taj Mahal      Uttar Pradesh  Historical   \n",
       "1              2        Goa Beaches                Goa       Beach   \n",
       "2              3        Jaipur City          Rajasthan        City   \n",
       "3              4  Kerala Backwaters             Kerala      Nature   \n",
       "4              5         Leh Ladakh  Jammu and Kashmir   Adventure   \n",
       "\n",
       "   Popularity BestTimeToVisit  \n",
       "0    8.691906         Nov-Feb  \n",
       "1    8.605032         Nov-Mar  \n",
       "2    9.225372         Oct-Mar  \n",
       "3    7.977386         Sep-Mar  \n",
       "4    8.399822         Apr-Jun  "
      ]
     },
     "execution_count": 10,
     "metadata": {},
     "output_type": "execute_result"
    }
   ],
   "source": [
    "Destinations= pd.read_csv('ml-engineer/datasets/Expanded_Destinations.csv')\n",
    "Destinations.head()"
   ]
  },
  {
   "cell_type": "markdown",
   "metadata": {},
   "source": [
    "Users"
   ]
  },
  {
   "cell_type": "code",
   "execution_count": 12,
   "metadata": {},
   "outputs": [
    {
     "data": {
      "text/html": [
       "<div>\n",
       "<style scoped>\n",
       "    .dataframe tbody tr th:only-of-type {\n",
       "        vertical-align: middle;\n",
       "    }\n",
       "\n",
       "    .dataframe tbody tr th {\n",
       "        vertical-align: top;\n",
       "    }\n",
       "\n",
       "    .dataframe thead th {\n",
       "        text-align: right;\n",
       "    }\n",
       "</style>\n",
       "<table border=\"1\" class=\"dataframe\">\n",
       "  <thead>\n",
       "    <tr style=\"text-align: right;\">\n",
       "      <th></th>\n",
       "      <th>UserID</th>\n",
       "      <th>Name</th>\n",
       "      <th>Email</th>\n",
       "      <th>Preferences</th>\n",
       "      <th>Gender</th>\n",
       "      <th>NumberOfAdults</th>\n",
       "      <th>NumberOfChildren</th>\n",
       "    </tr>\n",
       "  </thead>\n",
       "  <tbody>\n",
       "    <tr>\n",
       "      <th>0</th>\n",
       "      <td>1</td>\n",
       "      <td>Kavya</td>\n",
       "      <td>kavya@example.com</td>\n",
       "      <td>Beaches, Historical</td>\n",
       "      <td>Female</td>\n",
       "      <td>1</td>\n",
       "      <td>0</td>\n",
       "    </tr>\n",
       "    <tr>\n",
       "      <th>1</th>\n",
       "      <td>2</td>\n",
       "      <td>Rohan</td>\n",
       "      <td>rohan@example.com</td>\n",
       "      <td>Nature, Adventure</td>\n",
       "      <td>Male</td>\n",
       "      <td>2</td>\n",
       "      <td>2</td>\n",
       "    </tr>\n",
       "    <tr>\n",
       "      <th>2</th>\n",
       "      <td>3</td>\n",
       "      <td>Kavya</td>\n",
       "      <td>kavya@example.com</td>\n",
       "      <td>City, Historical</td>\n",
       "      <td>Female</td>\n",
       "      <td>2</td>\n",
       "      <td>0</td>\n",
       "    </tr>\n",
       "    <tr>\n",
       "      <th>3</th>\n",
       "      <td>4</td>\n",
       "      <td>Anika</td>\n",
       "      <td>anika@example.com</td>\n",
       "      <td>Beaches, Historical</td>\n",
       "      <td>Female</td>\n",
       "      <td>1</td>\n",
       "      <td>0</td>\n",
       "    </tr>\n",
       "    <tr>\n",
       "      <th>4</th>\n",
       "      <td>5</td>\n",
       "      <td>Tanvi</td>\n",
       "      <td>tanvi@example.com</td>\n",
       "      <td>Nature, Adventure</td>\n",
       "      <td>Female</td>\n",
       "      <td>2</td>\n",
       "      <td>2</td>\n",
       "    </tr>\n",
       "  </tbody>\n",
       "</table>\n",
       "</div>"
      ],
      "text/plain": [
       "   UserID   Name              Email          Preferences  Gender  \\\n",
       "0       1  Kavya  kavya@example.com  Beaches, Historical  Female   \n",
       "1       2  Rohan  rohan@example.com    Nature, Adventure    Male   \n",
       "2       3  Kavya  kavya@example.com     City, Historical  Female   \n",
       "3       4  Anika  anika@example.com  Beaches, Historical  Female   \n",
       "4       5  Tanvi  tanvi@example.com    Nature, Adventure  Female   \n",
       "\n",
       "   NumberOfAdults  NumberOfChildren  \n",
       "0               1                 0  \n",
       "1               2                 2  \n",
       "2               2                 0  \n",
       "3               1                 0  \n",
       "4               2                 2  "
      ]
     },
     "execution_count": 12,
     "metadata": {},
     "output_type": "execute_result"
    }
   ],
   "source": [
    "Users= pd.read_csv('ml-engineer/datasets/Final_Updated_Expanded_Users.csv')\n",
    "Users.head()"
   ]
  },
  {
   "cell_type": "markdown",
   "metadata": {},
   "source": [
    "Reviews"
   ]
  },
  {
   "cell_type": "code",
   "execution_count": 13,
   "metadata": {},
   "outputs": [
    {
     "data": {
      "text/html": [
       "<div>\n",
       "<style scoped>\n",
       "    .dataframe tbody tr th:only-of-type {\n",
       "        vertical-align: middle;\n",
       "    }\n",
       "\n",
       "    .dataframe tbody tr th {\n",
       "        vertical-align: top;\n",
       "    }\n",
       "\n",
       "    .dataframe thead th {\n",
       "        text-align: right;\n",
       "    }\n",
       "</style>\n",
       "<table border=\"1\" class=\"dataframe\">\n",
       "  <thead>\n",
       "    <tr style=\"text-align: right;\">\n",
       "      <th></th>\n",
       "      <th>ReviewID</th>\n",
       "      <th>DestinationID</th>\n",
       "      <th>UserID</th>\n",
       "      <th>Rating</th>\n",
       "      <th>ReviewText</th>\n",
       "    </tr>\n",
       "  </thead>\n",
       "  <tbody>\n",
       "    <tr>\n",
       "      <th>0</th>\n",
       "      <td>1</td>\n",
       "      <td>178</td>\n",
       "      <td>327</td>\n",
       "      <td>2</td>\n",
       "      <td>Incredible monument!</td>\n",
       "    </tr>\n",
       "    <tr>\n",
       "      <th>1</th>\n",
       "      <td>2</td>\n",
       "      <td>411</td>\n",
       "      <td>783</td>\n",
       "      <td>1</td>\n",
       "      <td>Loved the beaches!</td>\n",
       "    </tr>\n",
       "    <tr>\n",
       "      <th>2</th>\n",
       "      <td>3</td>\n",
       "      <td>927</td>\n",
       "      <td>12</td>\n",
       "      <td>2</td>\n",
       "      <td>A historical wonder</td>\n",
       "    </tr>\n",
       "    <tr>\n",
       "      <th>3</th>\n",
       "      <td>4</td>\n",
       "      <td>358</td>\n",
       "      <td>959</td>\n",
       "      <td>3</td>\n",
       "      <td>Incredible monument!</td>\n",
       "    </tr>\n",
       "    <tr>\n",
       "      <th>4</th>\n",
       "      <td>5</td>\n",
       "      <td>989</td>\n",
       "      <td>353</td>\n",
       "      <td>2</td>\n",
       "      <td>Loved the beaches!</td>\n",
       "    </tr>\n",
       "  </tbody>\n",
       "</table>\n",
       "</div>"
      ],
      "text/plain": [
       "   ReviewID  DestinationID  UserID  Rating            ReviewText\n",
       "0         1            178     327       2  Incredible monument!\n",
       "1         2            411     783       1    Loved the beaches!\n",
       "2         3            927      12       2   A historical wonder\n",
       "3         4            358     959       3  Incredible monument!\n",
       "4         5            989     353       2    Loved the beaches!"
      ]
     },
     "execution_count": 13,
     "metadata": {},
     "output_type": "execute_result"
    }
   ],
   "source": [
    "Reviews= pd.read_csv('ml-engineer/datasets/Final_Updated_Expanded_Reviews.csv')\n",
    "Reviews.head()"
   ]
  },
  {
   "cell_type": "markdown",
   "metadata": {},
   "source": [
    "User History"
   ]
  },
  {
   "cell_type": "code",
   "execution_count": 14,
   "metadata": {},
   "outputs": [
    {
     "data": {
      "text/html": [
       "<div>\n",
       "<style scoped>\n",
       "    .dataframe tbody tr th:only-of-type {\n",
       "        vertical-align: middle;\n",
       "    }\n",
       "\n",
       "    .dataframe tbody tr th {\n",
       "        vertical-align: top;\n",
       "    }\n",
       "\n",
       "    .dataframe thead th {\n",
       "        text-align: right;\n",
       "    }\n",
       "</style>\n",
       "<table border=\"1\" class=\"dataframe\">\n",
       "  <thead>\n",
       "    <tr style=\"text-align: right;\">\n",
       "      <th></th>\n",
       "      <th>HistoryID</th>\n",
       "      <th>UserID</th>\n",
       "      <th>DestinationID</th>\n",
       "      <th>VisitDate</th>\n",
       "      <th>ExperienceRating</th>\n",
       "    </tr>\n",
       "  </thead>\n",
       "  <tbody>\n",
       "    <tr>\n",
       "      <th>0</th>\n",
       "      <td>1</td>\n",
       "      <td>525</td>\n",
       "      <td>760</td>\n",
       "      <td>2024-01-01</td>\n",
       "      <td>3</td>\n",
       "    </tr>\n",
       "    <tr>\n",
       "      <th>1</th>\n",
       "      <td>2</td>\n",
       "      <td>184</td>\n",
       "      <td>532</td>\n",
       "      <td>2024-02-15</td>\n",
       "      <td>5</td>\n",
       "    </tr>\n",
       "    <tr>\n",
       "      <th>2</th>\n",
       "      <td>3</td>\n",
       "      <td>897</td>\n",
       "      <td>786</td>\n",
       "      <td>2024-03-20</td>\n",
       "      <td>2</td>\n",
       "    </tr>\n",
       "    <tr>\n",
       "      <th>3</th>\n",
       "      <td>4</td>\n",
       "      <td>470</td>\n",
       "      <td>660</td>\n",
       "      <td>2024-01-01</td>\n",
       "      <td>1</td>\n",
       "    </tr>\n",
       "    <tr>\n",
       "      <th>4</th>\n",
       "      <td>5</td>\n",
       "      <td>989</td>\n",
       "      <td>389</td>\n",
       "      <td>2024-02-15</td>\n",
       "      <td>4</td>\n",
       "    </tr>\n",
       "  </tbody>\n",
       "</table>\n",
       "</div>"
      ],
      "text/plain": [
       "   HistoryID  UserID  DestinationID   VisitDate  ExperienceRating\n",
       "0          1     525            760  2024-01-01                 3\n",
       "1          2     184            532  2024-02-15                 5\n",
       "2          3     897            786  2024-03-20                 2\n",
       "3          4     470            660  2024-01-01                 1\n",
       "4          5     989            389  2024-02-15                 4"
      ]
     },
     "execution_count": 14,
     "metadata": {},
     "output_type": "execute_result"
    }
   ],
   "source": [
    "History= pd.read_csv('ml-engineer/datasets/Final_Updated_Expanded_UserHistory.csv')\n",
    "History.head()"
   ]
  },
  {
   "cell_type": "markdown",
   "metadata": {},
   "source": [
    "----"
   ]
  },
  {
   "cell_type": "markdown",
   "metadata": {},
   "source": [
    "# Destinations"
   ]
  },
  {
   "cell_type": "code",
   "execution_count": 15,
   "metadata": {},
   "outputs": [
    {
     "data": {
      "text/html": [
       "<div>\n",
       "<style scoped>\n",
       "    .dataframe tbody tr th:only-of-type {\n",
       "        vertical-align: middle;\n",
       "    }\n",
       "\n",
       "    .dataframe tbody tr th {\n",
       "        vertical-align: top;\n",
       "    }\n",
       "\n",
       "    .dataframe thead th {\n",
       "        text-align: right;\n",
       "    }\n",
       "</style>\n",
       "<table border=\"1\" class=\"dataframe\">\n",
       "  <thead>\n",
       "    <tr style=\"text-align: right;\">\n",
       "      <th></th>\n",
       "      <th>DestinationID</th>\n",
       "      <th>Name</th>\n",
       "      <th>State</th>\n",
       "      <th>Type</th>\n",
       "      <th>Popularity</th>\n",
       "      <th>BestTimeToVisit</th>\n",
       "    </tr>\n",
       "  </thead>\n",
       "  <tbody>\n",
       "    <tr>\n",
       "      <th>0</th>\n",
       "      <td>1</td>\n",
       "      <td>Taj Mahal</td>\n",
       "      <td>Uttar Pradesh</td>\n",
       "      <td>Historical</td>\n",
       "      <td>8.691906</td>\n",
       "      <td>Nov-Feb</td>\n",
       "    </tr>\n",
       "    <tr>\n",
       "      <th>1</th>\n",
       "      <td>2</td>\n",
       "      <td>Goa Beaches</td>\n",
       "      <td>Goa</td>\n",
       "      <td>Beach</td>\n",
       "      <td>8.605032</td>\n",
       "      <td>Nov-Mar</td>\n",
       "    </tr>\n",
       "    <tr>\n",
       "      <th>2</th>\n",
       "      <td>3</td>\n",
       "      <td>Jaipur City</td>\n",
       "      <td>Rajasthan</td>\n",
       "      <td>City</td>\n",
       "      <td>9.225372</td>\n",
       "      <td>Oct-Mar</td>\n",
       "    </tr>\n",
       "    <tr>\n",
       "      <th>3</th>\n",
       "      <td>4</td>\n",
       "      <td>Kerala Backwaters</td>\n",
       "      <td>Kerala</td>\n",
       "      <td>Nature</td>\n",
       "      <td>7.977386</td>\n",
       "      <td>Sep-Mar</td>\n",
       "    </tr>\n",
       "    <tr>\n",
       "      <th>4</th>\n",
       "      <td>5</td>\n",
       "      <td>Leh Ladakh</td>\n",
       "      <td>Jammu and Kashmir</td>\n",
       "      <td>Adventure</td>\n",
       "      <td>8.399822</td>\n",
       "      <td>Apr-Jun</td>\n",
       "    </tr>\n",
       "  </tbody>\n",
       "</table>\n",
       "</div>"
      ],
      "text/plain": [
       "   DestinationID               Name              State        Type  \\\n",
       "0              1          Taj Mahal      Uttar Pradesh  Historical   \n",
       "1              2        Goa Beaches                Goa       Beach   \n",
       "2              3        Jaipur City          Rajasthan        City   \n",
       "3              4  Kerala Backwaters             Kerala      Nature   \n",
       "4              5         Leh Ladakh  Jammu and Kashmir   Adventure   \n",
       "\n",
       "   Popularity BestTimeToVisit  \n",
       "0    8.691906         Nov-Feb  \n",
       "1    8.605032         Nov-Mar  \n",
       "2    9.225372         Oct-Mar  \n",
       "3    7.977386         Sep-Mar  \n",
       "4    8.399822         Apr-Jun  "
      ]
     },
     "execution_count": 15,
     "metadata": {},
     "output_type": "execute_result"
    }
   ],
   "source": [
    "Destinations.head()"
   ]
  },
  {
   "cell_type": "code",
   "execution_count": 18,
   "metadata": {},
   "outputs": [],
   "source": [
    "# Make a copy of the original dataset so we can work with it without changing the original dataset\n",
    "destinations= Destinations.copy()"
   ]
  },
  {
   "cell_type": "code",
   "execution_count": 25,
   "metadata": {},
   "outputs": [
    {
     "data": {
      "text/plain": [
       "(1000, 6)"
      ]
     },
     "execution_count": 25,
     "metadata": {},
     "output_type": "execute_result"
    }
   ],
   "source": [
    "destinations.shape"
   ]
  },
  {
   "cell_type": "markdown",
   "metadata": {},
   "source": [
    "Data type"
   ]
  },
  {
   "cell_type": "code",
   "execution_count": 19,
   "metadata": {},
   "outputs": [
    {
     "name": "stdout",
     "output_type": "stream",
     "text": [
      "<class 'pandas.core.frame.DataFrame'>\n",
      "RangeIndex: 1000 entries, 0 to 999\n",
      "Data columns (total 6 columns):\n",
      " #   Column           Non-Null Count  Dtype  \n",
      "---  ------           --------------  -----  \n",
      " 0   DestinationID    1000 non-null   int64  \n",
      " 1   Name             1000 non-null   object \n",
      " 2   State            1000 non-null   object \n",
      " 3   Type             1000 non-null   object \n",
      " 4   Popularity       1000 non-null   float64\n",
      " 5   BestTimeToVisit  1000 non-null   object \n",
      "dtypes: float64(1), int64(1), object(4)\n",
      "memory usage: 47.0+ KB\n"
     ]
    }
   ],
   "source": [
    "destinations.info()"
   ]
  },
  {
   "cell_type": "markdown",
   "metadata": {},
   "source": [
    "Statistical informations"
   ]
  },
  {
   "cell_type": "code",
   "execution_count": 29,
   "metadata": {},
   "outputs": [
    {
     "data": {
      "text/html": [
       "<div>\n",
       "<style scoped>\n",
       "    .dataframe tbody tr th:only-of-type {\n",
       "        vertical-align: middle;\n",
       "    }\n",
       "\n",
       "    .dataframe tbody tr th {\n",
       "        vertical-align: top;\n",
       "    }\n",
       "\n",
       "    .dataframe thead th {\n",
       "        text-align: right;\n",
       "    }\n",
       "</style>\n",
       "<table border=\"1\" class=\"dataframe\">\n",
       "  <thead>\n",
       "    <tr style=\"text-align: right;\">\n",
       "      <th></th>\n",
       "      <th>Popularity</th>\n",
       "    </tr>\n",
       "  </thead>\n",
       "  <tbody>\n",
       "    <tr>\n",
       "      <th>count</th>\n",
       "      <td>1000.000000</td>\n",
       "    </tr>\n",
       "    <tr>\n",
       "      <th>mean</th>\n",
       "      <td>8.513927</td>\n",
       "    </tr>\n",
       "    <tr>\n",
       "      <th>std</th>\n",
       "      <td>0.567083</td>\n",
       "    </tr>\n",
       "    <tr>\n",
       "      <th>min</th>\n",
       "      <td>7.504500</td>\n",
       "    </tr>\n",
       "    <tr>\n",
       "      <th>25%</th>\n",
       "      <td>8.034457</td>\n",
       "    </tr>\n",
       "    <tr>\n",
       "      <th>50%</th>\n",
       "      <td>8.496527</td>\n",
       "    </tr>\n",
       "    <tr>\n",
       "      <th>75%</th>\n",
       "      <td>9.020769</td>\n",
       "    </tr>\n",
       "    <tr>\n",
       "      <th>max</th>\n",
       "      <td>9.499811</td>\n",
       "    </tr>\n",
       "  </tbody>\n",
       "</table>\n",
       "</div>"
      ],
      "text/plain": [
       "        Popularity\n",
       "count  1000.000000\n",
       "mean      8.513927\n",
       "std       0.567083\n",
       "min       7.504500\n",
       "25%       8.034457\n",
       "50%       8.496527\n",
       "75%       9.020769\n",
       "max       9.499811"
      ]
     },
     "execution_count": 29,
     "metadata": {},
     "output_type": "execute_result"
    }
   ],
   "source": [
    "si= destinations.describe()['Popularity'].reset_index()\n",
    "si.index= si['index'].values\n",
    "si.drop(columns= ['index'], inplace= True)\n",
    "si"
   ]
  },
  {
   "cell_type": "code",
   "execution_count": 36,
   "metadata": {},
   "outputs": [
    {
     "data": {
      "text/plain": [
       "<seaborn.axisgrid.PairGrid at 0x1d5af61f760>"
      ]
     },
     "execution_count": 36,
     "metadata": {},
     "output_type": "execute_result"
    },
    {
     "data": {
      "image/png": "[encoded data removed]",
      "text/plain": [
       "<Figure size 250x250 with 2 Axes>"
      ]
     },
     "metadata": {},
     "output_type": "display_data"
    }
   ],
   "source": [
    "sn.pairplot(destinations.drop(columns= ['DestinationID']))"
   ]
  },
  {
   "cell_type": "markdown",
   "metadata": {},
   "source": [
    "Null values"
   ]
  },
  {
   "cell_type": "code",
   "execution_count": 31,
   "metadata": {},
   "outputs": [
    {
     "data": {
      "text/plain": [
       "DestinationID      0\n",
       "Name               0\n",
       "State              0\n",
       "Type               0\n",
       "Popularity         0\n",
       "BestTimeToVisit    0\n",
       "dtype: int64"
      ]
     },
     "execution_count": 31,
     "metadata": {},
     "output_type": "execute_result"
    }
   ],
   "source": [
    "destinations.isnull().sum()"
   ]
  },
  {
   "cell_type": "code",
   "execution_count": null,
   "metadata": {},
   "outputs": [],
   "source": []
  }
 ],
 "metadata": {
  "kernelspec": {
   "display_name": "Qvenv",
   "language": "python",
   "name": "qvenv"
  },
  "language_info": {
   "codemirror_mode": {
    "name": "ipython",
    "version": 3
   },
   "file_extension": ".py",
   "mimetype": "text/x-python",
   "name": "python",
   "nbconvert_exporter": "python",
   "pygments_lexer": "ipython3",
   "version": "3.10.0"
  }
 },
 "nbformat": 4,
 "nbformat_minor": 2
}
